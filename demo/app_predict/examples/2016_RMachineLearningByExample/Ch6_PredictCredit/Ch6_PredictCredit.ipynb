{
 "cells": [
  {
   "cell_type": "markdown",
   "metadata": {},
   "source": [
    "# data_preparation.R"
   ]
  },
  {
   "cell_type": "code",
   "execution_count": 1,
   "metadata": {
    "collapsed": true
   },
   "outputs": [],
   "source": [
    "# load the dataset into data frame\n",
    "credit.df <- read.csv(\"credit_dataset_final.csv\", header = TRUE, sep = \",\")\n",
    "\n",
    "## data type transformations - factoring\n",
    "to.factors <- function(df, variables){\n",
    "  for (variable in variables){\n",
    "    df[[variable]] <- as.factor(df[[variable]])\n",
    "  }\n",
    "  return(df)\n",
    "}\n",
    "\n",
    "## normalizing - scaling\n",
    "scale.features <- function(df, variables){\n",
    "  for (variable in variables){\n",
    "    df[[variable]] <- scale(df[[variable]], center=T, scale=T)\n",
    "  }\n",
    "  return(df)\n",
    "}\n",
    "\n",
    "# normalize variables\n",
    "numeric.vars <- c(\"credit.duration.months\", \"age\", \"credit.amount\")\n",
    "credit.df <- scale.features(credit.df, numeric.vars)\n",
    "# factor variables\n",
    "categorical.vars <- c('credit.rating', 'account.balance', 'previous.credit.payment.status',\n",
    "                      'credit.purpose', 'savings', 'employment.duration', 'installment.rate',\n",
    "                      'marital.status', 'guarantor', 'residence.duration', 'current.assets',\n",
    "                      'other.credits', 'apartment.type', 'bank.credits', 'occupation', \n",
    "                      'dependents', 'telephone', 'foreign.worker')\n",
    "credit.df <- to.factors(df=credit.df, variables=categorical.vars)\n",
    "\n",
    "# split data into training and test datasets in 60:40 ratio\n",
    "indexes <- sample(1:nrow(credit.df), size=0.6*nrow(credit.df))\n",
    "train.data <- credit.df[indexes,]\n",
    "test.data <- credit.df[-indexes,]"
   ]
  },
  {
   "cell_type": "markdown",
   "metadata": {},
   "source": [
    "# feature_selection.R"
   ]
  },
  {
   "cell_type": "code",
   "execution_count": 2,
   "metadata": {
    "collapsed": false
   },
   "outputs": [
    {
     "name": "stderr",
     "output_type": "stream",
     "text": [
      "Loading required package: lattice\n",
      "Loading required package: ggplot2\n",
      "randomForest 4.6-12\n",
      "Type rfNews() to see new features/changes/bug fixes.\n",
      "\n",
      "Attaching package: ‘randomForest’\n",
      "\n",
      "The following object is masked from ‘package:ggplot2’:\n",
      "\n",
      "    margin\n",
      "\n"
     ]
    },
    {
     "data": {
      "text/plain": [
       "\n",
       "Recursive feature selection\n",
       "\n",
       "Outer resampling method: Cross-Validated (20 fold) \n",
       "\n",
       "Resampling performance over subset size:\n",
       "\n",
       " Variables Accuracy   Kappa AccuracySD KappaSD Selected\n",
       "         1   0.6834 0.02184    0.03637 0.04828         \n",
       "         2   0.7303 0.27564    0.05806 0.16878         \n",
       "         3   0.7403 0.28952    0.05012 0.14474         \n",
       "         4   0.7684 0.40502    0.06504 0.16609        *\n",
       "         5   0.7485 0.35042    0.07792 0.19907         \n",
       "         6   0.7618 0.37509    0.06374 0.17272         \n",
       "         7   0.7435 0.31077    0.06791 0.19985         \n",
       "         8   0.7601 0.35047    0.07594 0.21377         \n",
       "         9   0.7635 0.36533    0.06969 0.20867         \n",
       "        10   0.7634 0.37329    0.07059 0.19814         \n",
       "        20   0.7636 0.35194    0.06664 0.19859         \n",
       "\n",
       "The top 4 variables (out of 4):\n",
       "   account.balance, credit.duration.months, previous.credit.payment.status, savings\n"
      ]
     },
     "metadata": {},
     "output_type": "display_data"
    }
   ],
   "source": [
    "library(caret)  # feature selection algorithm\n",
    "library(randomForest) # random forest algorithm\n",
    "\n",
    "# rfe based feature selection algorithm\n",
    "run.feature.selection <- function(num.iters=20, feature.vars, class.var){\n",
    "  set.seed(10)\n",
    "  variable.sizes <- 1:10\n",
    "  control <- rfeControl(functions = rfFuncs, method = \"cv\", \n",
    "                        verbose = FALSE, returnResamp = \"all\", \n",
    "                        number = num.iters)\n",
    "  results.rfe <- rfe(x = feature.vars, y = class.var, \n",
    "             sizes = variable.sizes, \n",
    "             rfeControl = control)\n",
    "  return(results.rfe)\n",
    "}\n",
    "\n",
    "# run feature selection\n",
    "rfe.results <- run.feature.selection(feature.vars=train.data[,-1], \n",
    "                                     class.var=train.data[,1])\n",
    "# view results\n",
    "rfe.results"
   ]
  },
  {
   "cell_type": "markdown",
   "metadata": {
    "collapsed": true
   },
   "source": [
    "# rf_classifier.R"
   ]
  },
  {
   "cell_type": "code",
   "execution_count": 4,
   "metadata": {
    "collapsed": false
   },
   "outputs": [
    {
     "name": "stderr",
     "output_type": "stream",
     "text": [
      "Loading required package: gplots\n",
      "\n",
      "Attaching package: ‘gplots’\n",
      "\n",
      "The following object is masked from ‘package:stats’:\n",
      "\n",
      "    lowess\n",
      "\n"
     ]
    },
    {
     "name": "stdout",
     "output_type": "stream",
     "text": [
      "\n",
      "Call:\n",
      " randomForest(formula = formula.init, data = train.data, importance = T,      proximity = T) \n",
      "               Type of random forest: classification\n",
      "                     Number of trees: 500\n",
      "No. of variables tried at each split: 4\n",
      "\n",
      "        OOB estimate of  error rate: 23.5%\n",
      "Confusion matrix:\n",
      "   0   1 class.error\n",
      "0 69 110   0.6145251\n",
      "1 31 390   0.0736342\n"
     ]
    },
    {
     "data": {
      "text/plain": [
       "Confusion Matrix and Statistics\n",
       "\n",
       "          Reference\n",
       "Prediction   0   1\n",
       "         0  54  31\n",
       "         1  67 248\n",
       "                                          \n",
       "               Accuracy : 0.755           \n",
       "                 95% CI : (0.7098, 0.7964)\n",
       "    No Information Rate : 0.6975          \n",
       "    P-Value [Acc > NIR] : 0.006392        \n",
       "                                          \n",
       "                  Kappa : 0.366           \n",
       " Mcnemar's Test P-Value : 0.000407        \n",
       "                                          \n",
       "            Sensitivity : 0.8889          \n",
       "            Specificity : 0.4463          \n",
       "         Pos Pred Value : 0.7873          \n",
       "         Neg Pred Value : 0.6353          \n",
       "             Prevalence : 0.6975          \n",
       "         Detection Rate : 0.6200          \n",
       "   Detection Prevalence : 0.7875          \n",
       "      Balanced Accuracy : 0.6676          \n",
       "                                          \n",
       "       'Positive' Class : 1               \n",
       "                                          "
      ]
     },
     "metadata": {},
     "output_type": "display_data"
    },
    {
     "data": {
      "text/plain": [
       "Confusion Matrix and Statistics\n",
       "\n",
       "          Reference\n",
       "Prediction   0   1\n",
       "         0  67  44\n",
       "         1  54 235\n",
       "                                          \n",
       "               Accuracy : 0.755           \n",
       "                 95% CI : (0.7098, 0.7964)\n",
       "    No Information Rate : 0.6975          \n",
       "    P-Value [Acc > NIR] : 0.006392        \n",
       "                                          \n",
       "                  Kappa : 0.4055          \n",
       " Mcnemar's Test P-Value : 0.363278        \n",
       "                                          \n",
       "            Sensitivity : 0.8423          \n",
       "            Specificity : 0.5537          \n",
       "         Pos Pred Value : 0.8131          \n",
       "         Neg Pred Value : 0.6036          \n",
       "             Prevalence : 0.6975          \n",
       "         Detection Rate : 0.5875          \n",
       "   Detection Prevalence : 0.7225          \n",
       "      Balanced Accuracy : 0.6980          \n",
       "                                          \n",
       "       'Positive' Class : 1               \n",
       "                                          "
      ]
     },
     "metadata": {},
     "output_type": "display_data"
    },
    {
     "name": "stdout",
     "output_type": "stream",
     "text": [
      "\n",
      "Parameter tuning of ‘randomForest’:\n",
      "\n",
      "- sampling method: 10-fold cross validation \n",
      "\n",
      "- best parameters:\n",
      " nodesize mtry ntree\n",
      "        3    3   500\n",
      "\n",
      "- best performance: 0.24 \n",
      "\n"
     ]
    },
    {
     "data": {
      "text/plain": [
       "Confusion Matrix and Statistics\n",
       "\n",
       "          Reference\n",
       "Prediction   0   1\n",
       "         0  68  50\n",
       "         1  53 229\n",
       "                                          \n",
       "               Accuracy : 0.7425          \n",
       "                 95% CI : (0.6967, 0.7847)\n",
       "    No Information Rate : 0.6975          \n",
       "    P-Value [Acc > NIR] : 0.02707         \n",
       "                                          \n",
       "                  Kappa : 0.3855          \n",
       " Mcnemar's Test P-Value : 0.84378         \n",
       "                                          \n",
       "            Sensitivity : 0.8208          \n",
       "            Specificity : 0.5620          \n",
       "         Pos Pred Value : 0.8121          \n",
       "         Neg Pred Value : 0.5763          \n",
       "             Prevalence : 0.6975          \n",
       "         Detection Rate : 0.5725          \n",
       "   Detection Prevalence : 0.7050          \n",
       "      Balanced Accuracy : 0.6914          \n",
       "                                          \n",
       "       'Positive' Class : 1               \n",
       "                                          "
      ]
     },
     "metadata": {},
     "output_type": "display_data"
    },
    {
     "data": {
      "image/png": "[encoded data removed]",
      "text/plain": [
       "Plot with title “RF Precision/Recall Curve”"
      ]
     },
     "metadata": {},
     "output_type": "display_data"
    }
   ],
   "source": [
    "library(randomForest) #rf model\n",
    "library(caret) # feature selection\n",
    "library(e1071) # model tuning\n",
    "library(ROCR) # model evaluation\n",
    "source(\"performance_plot_utils.R\") # plot curves\n",
    "## separate feature and class variables\n",
    "test.feature.vars <- test.data[,-1]\n",
    "test.class.var <- test.data[,1]\n",
    "\n",
    "## build initial model with training data\n",
    "formula.init <- \"credit.rating ~ .\"\n",
    "formula.init <- as.formula(formula.init)\n",
    "rf.model <- randomForest(formula.init, data = train.data, importance=T, proximity=T)\n",
    "\n",
    "## view model details\n",
    "print(rf.model)\n",
    "\n",
    "## predict and evaluate results\n",
    "rf.predictions <- predict(rf.model, test.feature.vars, type=\"class\")\n",
    "confusionMatrix(data=rf.predictions, reference=test.class.var, positive=\"1\")\n",
    "\n",
    "\n",
    "## build new model with selected features\n",
    "formula.new <- \"credit.rating ~ account.balance + savings +\n",
    "                                credit.amount + credit.duration.months + \n",
    "                                previous.credit.payment.status\"\n",
    "formula.new <- as.formula(formula.new)\n",
    "rf.model.new <- randomForest(formula.new, data = train.data, \n",
    "                         importance=T, proximity=T)\n",
    "\n",
    "## predict and evaluate results\n",
    "rf.predictions.new <- predict(rf.model.new, test.feature.vars, type=\"class\")\n",
    "confusionMatrix(data=rf.predictions.new, reference=test.class.var, positive=\"1\")\n",
    "\n",
    "\n",
    "## hyperparameter optimizations\n",
    "\n",
    "# run grid search\n",
    "nodesize.vals <- c(2, 3, 4, 5)\n",
    "ntree.vals <- c(200, 500, 1000, 2000)\n",
    "tuning.results <- tune.randomForest(formula.new, \n",
    "                             data = train.data,\n",
    "                             mtry=3, \n",
    "                             nodesize=nodesize.vals,\n",
    "                             ntree=ntree.vals)\n",
    "print(tuning.results)\n",
    "\n",
    "# get best model and predict and evaluate performance\n",
    "rf.model.best <- tuning.results$best.model\n",
    "rf.predictions.best <- predict(rf.model.best, test.feature.vars, type=\"class\")\n",
    "confusionMatrix(data=rf.predictions.best, reference=test.class.var, positive=\"1\")\n",
    "\n",
    "\n",
    "## plot model evaluation metric curves\n",
    "rf.predictions.best <- predict(rf.model.best, test.feature.vars, type=\"prob\")\n",
    "rf.prediction.values <- rf.predictions.best[,2]\n",
    "predictions <- prediction(rf.prediction.values, test.class.var)\n",
    "par(mfrow=c(1,2))\n",
    "plot.roc.curve(predictions, title.text=\"RF ROC Curve\")\n",
    "plot.pr.curve(predictions, title.text=\"RF Precision/Recall Curve\")"
   ]
  },
  {
   "cell_type": "code",
   "execution_count": null,
   "metadata": {
    "collapsed": true
   },
   "outputs": [],
   "source": []
  }
 ],
 "metadata": {
  "anaconda-cloud": {},
  "kernelspec": {
   "display_name": "R",
   "language": "R",
   "name": "ir"
  },
  "language_info": {
   "codemirror_mode": "r",
   "file_extension": ".r",
   "mimetype": "text/x-r-source",
   "name": "R",
   "pygments_lexer": "r",
   "version": "3.3.2"
  }
 },
 "nbformat": 4,
 "nbformat_minor": 0
}
