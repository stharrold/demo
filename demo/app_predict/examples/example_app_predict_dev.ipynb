{
 "cells": [
  {
   "cell_type": "markdown",
   "metadata": {},
   "source": [
    "# Example development notebook for `app_predict`\n",
    "\n",
    "Related wiki page:  \n",
    "https://github.com/stharrold/demo/wiki/app_predict"
   ]
  },
  {
   "cell_type": "code",
   "execution_count": 1,
   "metadata": {
    "collapsed": false
   },
   "outputs": [
    {
     "name": "stdout",
     "output_type": "stream",
     "text": [
      "/opt/demo\n"
     ]
    }
   ],
   "source": [
    "cd /opt/demo"
   ]
  },
  {
   "cell_type": "code",
   "execution_count": 2,
   "metadata": {
    "collapsed": false
   },
   "outputs": [
    {
     "name": "stderr",
     "output_type": "stream",
     "text": [
      "/opt/conda/lib/python3.5/site-packages/matplotlib/font_manager.py:273: UserWarning: Matplotlib is building the font cache using fc-list. This may take a moment.\n",
      "  warnings.warn('Matplotlib is building the font cache using fc-list. This may take a moment.')\n",
      "/opt/conda/lib/python3.5/site-packages/matplotlib/font_manager.py:273: UserWarning: Matplotlib is building the font cache using fc-list. This may take a moment.\n",
      "  warnings.warn('Matplotlib is building the font cache using fc-list. This may take a moment.')\n"
     ]
    }
   ],
   "source": [
    "# Import standard packages.\n",
    "import os\n",
    "import sys\n",
    "import time\n",
    "# Import installed packages.\n",
    "# Import local packages.\n",
    "sys.path.insert(0, os.path.join(os.path.curdir, r'demo'))\n",
    "%reload_ext autoreload\n",
    "%autoreload 2\n",
    "import demo\n",
    "%matplotlib inline"
   ]
  },
  {
   "cell_type": "code",
   "execution_count": 3,
   "metadata": {
    "collapsed": false
   },
   "outputs": [
    {
     "name": "stdout",
     "output_type": "stream",
     "text": [
      "Timestamp:\n",
      "2017-02-27T03:17:41GMT\n",
      "\n",
      "Versions:\n",
      "Python: sys.version_info(major=3, minor=5, micro=2, releaselevel='final', serial=0)\n",
      "demo: 0.0.0\n"
     ]
    }
   ],
   "source": [
    "print(\"Timestamp:\")\n",
    "print(time.strftime(r'%Y-%m-%dT%H:%M:%S%Z', time.gmtime()))\n",
    "print()\n",
    "print(\"Versions:\")\n",
    "print(\"Python:\", sys.version_info)\n",
    "print(\"demo:\", demo.__version__)"
   ]
  },
  {
   "cell_type": "code",
   "execution_count": 4,
   "metadata": {
    "collapsed": false
   },
   "outputs": [
    {
     "name": "stdout",
     "output_type": "stream",
     "text": [
      "\u001b[1m============================= test session starts ==============================\u001b[0m\n",
      "platform linux -- Python 3.5.2, pytest-2.9.2, py-1.4.31, pluggy-0.3.1 -- /opt/conda/bin/python\n",
      "cachedir: .cache\n",
      "rootdir: /opt/demo, inifile: \n",
      "collected 8 items \u001b[0m\u001b[1m\u001b[1m\n",
      "\u001b[0m\n",
      "tests/test__init__.py::test__all__ \u001b[32mPASSED\u001b[0m\n",
      "tests/test__init__.py::test__version__ \u001b[32mPASSED\u001b[0m\n",
      "tests/test_app_template/test_app_template__init__.py::test__all__ \u001b[32mPASSED\u001b[0m\n",
      "tests/test_app_template/test_app_template_main.py::test__all__ \u001b[32mPASSED\u001b[0m\n",
      "tests/test_app_template/test_app_template_main.py::test_main \u001b[32mPASSED\u001b[0m\n",
      "tests/test_app_template/test_app_template_main.py::test__main__ \u001b[32mPASSED\u001b[0m\n",
      "tests/test_app_template/test_template.py::test_prepend_this \u001b[32mPASSED\u001b[0m\n",
      "tests/test_utils/test_utils__init__.py::test__all__ \u001b[32mPASSED\u001b[0m\n",
      "\n",
      "\u001b[1m\u001b[32m=========================== 8 passed in 5.51 seconds ===========================\u001b[0m\n"
     ]
    }
   ],
   "source": [
    "!py.test -v --pdb"
   ]
  },
  {
   "cell_type": "markdown",
   "metadata": {
    "collapsed": true
   },
   "source": [
    "# Development below"
   ]
  },
  {
   "cell_type": "markdown",
   "metadata": {},
   "source": [
    "## Initialization"
   ]
  },
  {
   "cell_type": "markdown",
   "metadata": {},
   "source": [
    "### Imports"
   ]
  },
  {
   "cell_type": "code",
   "execution_count": 5,
   "metadata": {
    "collapsed": false
   },
   "outputs": [
    {
     "name": "stdout",
     "output_type": "stream",
     "text": [
      "/opt/demo\n"
     ]
    }
   ],
   "source": [
    "cd /opt/demo"
   ]
  },
  {
   "cell_type": "code",
   "execution_count": 6,
   "metadata": {
    "collapsed": false
   },
   "outputs": [],
   "source": [
    "# Import standard packages.\n",
    "import bs4\n",
    "import collections\n",
    "import gc\n",
    "import glob\n",
    "import io\n",
    "import os\n",
    "import pickle\n",
    "import requests\n",
    "import shelve\n",
    "import subprocess\n",
    "import sys\n",
    "import textwrap\n",
    "import time\n",
    "import warnings\n",
    "# Import installed packages.\n",
    "import geopy\n",
    "import matplotlib as mpl\n",
    "import matplotlib.pyplot as plt\n",
    "import numpy as np\n",
    "import pandas as pd\n",
    "import scipy\n",
    "import seaborn as sns\n",
    "import sklearn as sk\n",
    "import sklearn.cross_validation as sk_cv\n",
    "import sklearn.cluster as sk_cl\n",
    "import sklearn.decomposition as sk_dc\n",
    "import sklearn.ensemble as sk_ens\n",
    "import sklearn.metrics as sk_met\n",
    "import sklearn.preprocessing as sk_pre\n",
    "# Import local packages.\n",
    "# datascience version: TODO link to GitHub tag v0.0.1.\n",
    "sys.path.insert(0, os.path.join(os.path.curdir, r'demo'))\n",
    "%reload_ext autoreload\n",
    "%autoreload 2\n",
    "import demo\n",
    "%matplotlib inline"
   ]
  },
  {
   "cell_type": "code",
   "execution_count": 7,
   "metadata": {
    "collapsed": false
   },
   "outputs": [
    {
     "name": "stdout",
     "output_type": "stream",
     "text": [
      "Timestamp:\n",
      "2017-02-27T03:18:01GMT\n",
      "\n",
      "Versions:\n",
      "Python: sys.version_info(major=3, minor=5, micro=2, releaselevel='final', serial=0)\n",
      "matplotlib: 1.5.1\n",
      "numpy: 1.11.1\n",
      "pandas: 0.18.1\n",
      "scipy: 0.17.1\n",
      "sklearn: 0.17.1\n",
      "seaborn: 0.7.1\n",
      "demo: 0.0.0\n"
     ]
    }
   ],
   "source": [
    "print(\"Timestamp:\")\n",
    "print(time.strftime(r'%Y-%m-%dT%H:%M:%S%Z', time.gmtime()))\n",
    "print()\n",
    "print(\"Versions:\")\n",
    "print(\"Python:\", sys.version_info)\n",
    "print(\"matplotlib:\", mpl.__version__)\n",
    "print(\"numpy:\", np.__version__)\n",
    "print(\"pandas:\", pd.__version__)\n",
    "print(\"scipy:\", scipy.__version__)\n",
    "print(\"sklearn:\", sk.__version__)\n",
    "print(\"seaborn:\", sns.__version__)\n",
    "print(\"demo:\", demo.__version__)"
   ]
  },
  {
   "cell_type": "code",
   "execution_count": 8,
   "metadata": {
    "collapsed": true
   },
   "outputs": [],
   "source": [
    "# State settings.\n",
    "sns.set() # Set matplot lib styles with seaborn\n",
    "np.random.seed(seed=1) # Set random state for reproducibility.\n",
    "\n",
    "# File paths\n",
    "path_data_dir = os.path.join(os.path.abspath(os.path.curdir), r'demo/app_predict/data')\n",
    "path_csv = os.path.join(path_data_dir, r'Risky Dealer Case Study Transactions.csv')\n",
    "\n",
    "# Statistics\n",
    "# percentiles = [-1.6449 sigma, -1 sigma, mean, +1 sigma, +1.6449 sigma] for normal distribution\n",
    "# 90.00% confidence interval = (percentiles[0], percentiles[-1])\n",
    "# 68.27% confidence interval = (percentiles[1], percentiles[-2])\n",
    "# median = percentiles[2]\n",
    "percentiles = [0.0500, 0.1587, 0.5000, 0.8413, 0.9500]"
   ]
  },
  {
   "cell_type": "markdown",
   "metadata": {
    "collapsed": true
   },
   "source": [
    "## Extract, transform, and load"
   ]
  },
  {
   "cell_type": "code",
   "execution_count": 9,
   "metadata": {
    "collapsed": false
   },
   "outputs": [
    {
     "name": "stdout",
     "output_type": "stream",
     "text": [
      "`df`: Load and format sales transactions.\n"
     ]
    }
   ],
   "source": [
    "print(r\"\"\"`df`: Load and format sales transactions.\"\"\")\n",
    "df = pd.read_csv(path_csv)"
   ]
  },
  {
   "cell_type": "code",
   "execution_count": 10,
   "metadata": {
    "collapsed": false
   },
   "outputs": [
    {
     "data": {
      "text/html": [
       "<div>\n",
       "<table border=\"1\" class=\"dataframe\">\n",
       "  <thead>\n",
       "    <tr style=\"text-align: right;\">\n",
       "      <th></th>\n",
       "      <th>BuyerID</th>\n",
       "      <th>SellerID</th>\n",
       "      <th>Mileage</th>\n",
       "      <th>VIN</th>\n",
       "      <th>SellingLocation</th>\n",
       "      <th>CarMake</th>\n",
       "      <th>SalePrice</th>\n",
       "      <th>CarYear</th>\n",
       "      <th>MMR</th>\n",
       "      <th>JDPowersCat</th>\n",
       "      <th>...</th>\n",
       "      <th>Salvage</th>\n",
       "      <th>OVE</th>\n",
       "      <th>Simulcast</th>\n",
       "      <th>InLane</th>\n",
       "      <th>PSIEligible</th>\n",
       "      <th>SaleDate</th>\n",
       "      <th>Autocheck_score</th>\n",
       "      <th>ConditionReport</th>\n",
       "      <th>DSEligible</th>\n",
       "      <th>Returned</th>\n",
       "    </tr>\n",
       "  </thead>\n",
       "  <tbody>\n",
       "    <tr>\n",
       "      <th>0</th>\n",
       "      <td>351757</td>\n",
       "      <td>441081</td>\n",
       "      <td>37055</td>\n",
       "      <td>1FAHP3M27CL374352</td>\n",
       "      <td>CAAI</td>\n",
       "      <td>FORD</td>\n",
       "      <td>13000</td>\n",
       "      <td>2012</td>\n",
       "      <td>13050</td>\n",
       "      <td>COMPACT CAR</td>\n",
       "      <td>...</td>\n",
       "      <td>0</td>\n",
       "      <td>0</td>\n",
       "      <td>0</td>\n",
       "      <td>0</td>\n",
       "      <td>1</td>\n",
       "      <td>13-07-25</td>\n",
       "      <td>1.000000</td>\n",
       "      <td>NaN</td>\n",
       "      <td>1</td>\n",
       "      <td>0.0</td>\n",
       "    </tr>\n",
       "    <tr>\n",
       "      <th>1</th>\n",
       "      <td>351757</td>\n",
       "      <td>442235</td>\n",
       "      <td>248</td>\n",
       "      <td>1G1JE6SB7D4103706</td>\n",
       "      <td>DETA</td>\n",
       "      <td>CHEVROLET</td>\n",
       "      <td>13900</td>\n",
       "      <td>2013</td>\n",
       "      <td>13600</td>\n",
       "      <td>COMPACT CAR</td>\n",
       "      <td>...</td>\n",
       "      <td>0</td>\n",
       "      <td>0</td>\n",
       "      <td>0</td>\n",
       "      <td>0</td>\n",
       "      <td>1</td>\n",
       "      <td>13-10-24</td>\n",
       "      <td>NaN</td>\n",
       "      <td>NaN</td>\n",
       "      <td>1</td>\n",
       "      <td>NaN</td>\n",
       "    </tr>\n",
       "    <tr>\n",
       "      <th>2</th>\n",
       "      <td>351757</td>\n",
       "      <td>436280</td>\n",
       "      <td>39627</td>\n",
       "      <td>1G1PG5SC4C7102274</td>\n",
       "      <td>CAAI</td>\n",
       "      <td>CHEVROLET</td>\n",
       "      <td>13800</td>\n",
       "      <td>2012</td>\n",
       "      <td>14050</td>\n",
       "      <td>MIDSIZE CAR</td>\n",
       "      <td>...</td>\n",
       "      <td>0</td>\n",
       "      <td>0</td>\n",
       "      <td>0</td>\n",
       "      <td>1</td>\n",
       "      <td>1</td>\n",
       "      <td>13-04-18</td>\n",
       "      <td>-2.666667</td>\n",
       "      <td>41</td>\n",
       "      <td>1</td>\n",
       "      <td>NaN</td>\n",
       "    </tr>\n",
       "    <tr>\n",
       "      <th>3</th>\n",
       "      <td>351757</td>\n",
       "      <td>436280</td>\n",
       "      <td>50773</td>\n",
       "      <td>1G1PG5SC5C7113820</td>\n",
       "      <td>CAAI</td>\n",
       "      <td>CHEVROLET</td>\n",
       "      <td>12900</td>\n",
       "      <td>2012</td>\n",
       "      <td>13150</td>\n",
       "      <td>MIDSIZE CAR</td>\n",
       "      <td>...</td>\n",
       "      <td>0</td>\n",
       "      <td>0</td>\n",
       "      <td>0</td>\n",
       "      <td>1</td>\n",
       "      <td>1</td>\n",
       "      <td>13-04-18</td>\n",
       "      <td>1.000000</td>\n",
       "      <td>31</td>\n",
       "      <td>1</td>\n",
       "      <td>NaN</td>\n",
       "    </tr>\n",
       "    <tr>\n",
       "      <th>4</th>\n",
       "      <td>351757</td>\n",
       "      <td>434202</td>\n",
       "      <td>54133</td>\n",
       "      <td>1GNKVGED4BJ301146</td>\n",
       "      <td>SVAA</td>\n",
       "      <td>CHEVROLET</td>\n",
       "      <td>17800</td>\n",
       "      <td>2011</td>\n",
       "      <td>18050</td>\n",
       "      <td>SUV</td>\n",
       "      <td>...</td>\n",
       "      <td>0</td>\n",
       "      <td>0</td>\n",
       "      <td>0</td>\n",
       "      <td>1</td>\n",
       "      <td>1</td>\n",
       "      <td>13-02-26</td>\n",
       "      <td>-1.400000</td>\n",
       "      <td>34</td>\n",
       "      <td>1</td>\n",
       "      <td>NaN</td>\n",
       "    </tr>\n",
       "  </tbody>\n",
       "</table>\n",
       "<p>5 rows × 25 columns</p>\n",
       "</div>"
      ],
      "text/plain": [
       "   BuyerID  SellerID  Mileage                VIN SellingLocation    CarMake  \\\n",
       "0   351757    441081    37055  1FAHP3M27CL374352            CAAI       FORD   \n",
       "1   351757    442235      248  1G1JE6SB7D4103706            DETA  CHEVROLET   \n",
       "2   351757    436280    39627  1G1PG5SC4C7102274            CAAI  CHEVROLET   \n",
       "3   351757    436280    50773  1G1PG5SC5C7113820            CAAI  CHEVROLET   \n",
       "4   351757    434202    54133  1GNKVGED4BJ301146            SVAA  CHEVROLET   \n",
       "\n",
       "   SalePrice  CarYear    MMR  JDPowersCat    ...     Salvage  OVE  Simulcast  \\\n",
       "0      13000     2012  13050  COMPACT CAR    ...           0    0          0   \n",
       "1      13900     2013  13600  COMPACT CAR    ...           0    0          0   \n",
       "2      13800     2012  14050  MIDSIZE CAR    ...           0    0          0   \n",
       "3      12900     2012  13150  MIDSIZE CAR    ...           0    0          0   \n",
       "4      17800     2011  18050          SUV    ...           0    0          0   \n",
       "\n",
       "   InLane  PSIEligible  SaleDate  Autocheck_score  ConditionReport  \\\n",
       "0       0            1  13-07-25         1.000000              NaN   \n",
       "1       0            1  13-10-24              NaN              NaN   \n",
       "2       1            1  13-04-18        -2.666667               41   \n",
       "3       1            1  13-04-18         1.000000               31   \n",
       "4       1            1  13-02-26        -1.400000               34   \n",
       "\n",
       "   DSEligible  Returned  \n",
       "0           1       0.0  \n",
       "1           1       NaN  \n",
       "2           1       NaN  \n",
       "3           1       NaN  \n",
       "4           1       NaN  \n",
       "\n",
       "[5 rows x 25 columns]"
      ]
     },
     "execution_count": 10,
     "metadata": {},
     "output_type": "execute_result"
    }
   ],
   "source": [
    "df.head()"
   ]
  },
  {
   "cell_type": "code",
   "execution_count": 11,
   "metadata": {
    "collapsed": true
   },
   "outputs": [],
   "source": [
    "df_backup = df.copy()"
   ]
  },
  {
   "cell_type": "code",
   "execution_count": 12,
   "metadata": {
    "collapsed": true
   },
   "outputs": [],
   "source": [
    "# df = df_backup.copy()"
   ]
  },
  {
   "cell_type": "code",
   "execution_count": 13,
   "metadata": {
    "collapsed": false,
    "scrolled": true
   },
   "outputs": [
    {
     "name": "stdout",
     "output_type": "stream",
     "text": [
      "################################################################################\n",
      "DSEligible, Returned: Fix DSEligible == 0 but Returned not null.\n",
      "To correct: If Returned not null, then DSEligible = 1.\n",
      "\n",
      "Before:\n",
      "Returned        0.0     1.0       nan       All\n",
      "DSEligible                                     \n",
      "0             542.0   291.0   15343.0   16176.0\n",
      "1           14984.0  3876.0  243301.0  262161.0\n",
      "All         15526.0  4167.0  258644.0  278337.0\n",
      "\n",
      "After:\n",
      "Returned        0.0     1.0       nan       All\n",
      "DSEligible                                     \n",
      "0               NaN     NaN   15343.0   15343.0\n",
      "1           15526.0  4167.0  243301.0  262994.0\n",
      "All         15526.0  4167.0  258644.0  278337.0\n",
      "\n",
      "################################################################################\n",
      "Returned: Fill nulls with -1 and cast to int.\n",
      "\n",
      "Before:\n",
      "Returned        0.0     1.0       nan       All\n",
      "DSEligible                                     \n",
      "0               NaN     NaN   15343.0   15343.0\n",
      "1           15526.0  4167.0  243301.0  262994.0\n",
      "All         15526.0  4167.0  258644.0  278337.0\n",
      "\n",
      "After:\n",
      "Returned          -1        0       1       All\n",
      "DSEligible                                     \n",
      "0            15343.0      NaN     NaN   15343.0\n",
      "1           243301.0  15526.0  4167.0  262994.0\n",
      "All         258644.0  15526.0  4167.0  278337.0\n",
      "\n",
      "################################################################################\n",
      "Returned_asm: Assume returned status to fill nulls as new feature.\n",
      "If Returned=-1 and DSEligible=0, then Returned_asm=1 (assumes low P(resale|buyer, car))\n",
      "If Returned=-1 and DSEligible=1, then Returned_asm=0 (assumes high P(resale|buyer, car))\n",
      "\n",
      "Relationship between DSEligible and Returned:\n",
      "Returned          -1        0       1       All\n",
      "DSEligible                                     \n",
      "0            15343.0      NaN     NaN   15343.0\n",
      "1           243301.0  15526.0  4167.0  262994.0\n",
      "All         258644.0  15526.0  4167.0  278337.0\n",
      "\n",
      "Relationship between DSEligible and Returned_asm:\n",
      "Returned_asm         0        1       All\n",
      "DSEligible                               \n",
      "0                  NaN  15343.0   15343.0\n",
      "1             258827.0   4167.0  262994.0\n",
      "All           258827.0  19510.0  278337.0\n",
      "\n",
      "Relationship between Returned and Returned_asm:\n",
      "Returned_asm         0        1       All\n",
      "Returned                                 \n",
      "-1            243301.0  15343.0  258644.0\n",
      "0              15526.0      NaN   15526.0\n",
      "1                  NaN   4167.0    4167.0\n",
      "All           258827.0  19510.0  278337.0\n",
      "\n",
      "################################################################################\n",
      "SellingLocation: Geocode.\n",
      "Scraping webpages for addresses and looking up latitude, longitude coordinates.\n",
      "Mapping SellingLocation to latitude, longitude coordinates.\n",
      "\n",
      "################################################################################\n",
      "CarMake: Deduplicate.\n",
      "\n",
      "################################################################################\n",
      "JDPowersCat: One-hot encoding.\n",
      "\n",
      "################################################################################\n",
      "LIGHT*: Only retain light with highest warning.\n",
      "\n",
      "Before:\n",
      "          LIGHTG=1  LIGHTY=1  LIGHTR=1\n",
      "LIGHTG=1     85231     10621        29\n",
      "LIGHTY=1     10621     16878      5023\n",
      "LIGHTR=1        29      5023     60677\n",
      "\n",
      "After:\n",
      "          LIGHTG=1  LIGHTY=1  LIGHTR=1\n",
      "LIGHTG=1     74588         0         0\n",
      "LIGHTY=1         0     11855         0\n",
      "LIGHTR=1         0         0     60677\n",
      "\n",
      "LIGHT_N0G1Y2R3: Rank lights by warning level (null=0, green=1, yellow=2, red=3).\n",
      "\n",
      "################################################################################\n",
      "SaleDate: Extract timeseries features.\n",
      "\n",
      "################################################################################\n",
      "Autocheck_score: Fill null values with mode (1).\n",
      "\n",
      "################################################################################\n",
      "ConditionReport: Map character codes to numerical values. Invalid codes are 'average'.\n",
      "\n",
      "################################################################################\n",
      "BuyerID, SellerID, VIN, SellingLocation, CarMake, JDPowersCat:\n",
      "Make informative priors (*_num*, *_frac*) for string features.\n",
      "Processing BuyerID\n",
      "Processing SellerID\n",
      "Processing VIN\n",
      "Processing SellingLocation\n",
      "Processing CarMake\n",
      "Processing JDPowersCat\n",
      "\n"
     ]
    },
    {
     "data": {
      "text/plain": [
       "472"
      ]
     },
     "execution_count": 13,
     "metadata": {},
     "output_type": "execute_result"
    }
   ],
   "source": [
    "df = demo.app_predict.predict.eta(df=df, path_data_dir=path_data_dir)\n",
    "gc.collect()"
   ]
  },
  {
   "cell_type": "code",
   "execution_count": 14,
   "metadata": {
    "collapsed": false,
    "scrolled": true
   },
   "outputs": [
    {
     "data": {
      "text/plain": [
       "BuyerID            object\n",
       "SellerID           object\n",
       "Mileage             int64\n",
       "VIN                object\n",
       "SellingLocation    object\n",
       "CarMake            object\n",
       "SalePrice           int64\n",
       "CarYear             int64\n",
       "MMR                 int64\n",
       "JDPowersCat        object\n",
       "LIGHTG              int64\n",
       "LIGHTY              int64\n",
       "LIGHTR              int64\n",
       "PSI                 int64\n",
       "Arbitrated          int64\n",
       "Salvage             int64\n",
       "OVE                 int64\n",
       "Simulcast           int64\n",
       "InLane              int64\n",
       "PSIEligible         int64\n",
       "dtype: object"
      ]
     },
     "execution_count": 14,
     "metadata": {},
     "output_type": "execute_result"
    }
   ],
   "source": [
    "df.dtypes[0:20]"
   ]
  },
  {
   "cell_type": "code",
   "execution_count": 15,
   "metadata": {
    "collapsed": false,
    "scrolled": true
   },
   "outputs": [
    {
     "data": {
      "text/plain": [
       "SaleDate                   datetime64[ns]\n",
       "Autocheck_score                   float64\n",
       "ConditionReport                     int64\n",
       "DSEligible                          int64\n",
       "Returned                            int64\n",
       "Returned_asm                        int64\n",
       "SellingLocation_lat               float64\n",
       "SellingLocation_lon               float64\n",
       "JDPowersCat_COMPACTCAR            float64\n",
       "JDPowersCat_EXCLUDED              float64\n",
       "JDPowersCat_FULLSIZECAR           float64\n",
       "JDPowersCat_LUXURYCAR             float64\n",
       "JDPowersCat_MIDSIZECAR            float64\n",
       "JDPowersCat_PICKUP                float64\n",
       "JDPowersCat_SPORTSCAR             float64\n",
       "JDPowersCat_SUV                   float64\n",
       "JDPowersCat_UNKNOWN               float64\n",
       "JDPowersCat_VAN                   float64\n",
       "LIGHT_N0G1Y2R3                      int64\n",
       "SaleDate_dow                        int64\n",
       "dtype: object"
      ]
     },
     "execution_count": 15,
     "metadata": {},
     "output_type": "execute_result"
    }
   ],
   "source": [
    "df.dtypes[20:40]"
   ]
  },
  {
   "cell_type": "code",
   "execution_count": 16,
   "metadata": {
    "collapsed": false,
    "scrolled": true
   },
   "outputs": [
    {
     "data": {
      "text/plain": [
       "SaleDate_doy                                    int64\n",
       "SaleDate_day                                    int64\n",
       "SaleDate_decyear                              float64\n",
       "BuyerID_numTransactions                         int64\n",
       "BuyerID_numDSEligible1                          int64\n",
       "BuyerID_fracDSEligible1DivTransactions        float64\n",
       "BuyerID_numReturnedNotNull                    float64\n",
       "BuyerID_fracReturnedNotNullDivDSEligible1     float64\n",
       "BuyerID_numReturned1                          float64\n",
       "BuyerID_fracReturned1DivReturnedNotNull       float64\n",
       "BuyerID_numReturnedasm1                       float64\n",
       "BuyerID_fracReturnedasm1DivTransactions       float64\n",
       "SellerID_numTransactions                        int64\n",
       "SellerID_numDSEligible1                       float64\n",
       "SellerID_fracDSEligible1DivTransactions       float64\n",
       "SellerID_numReturnedNotNull                   float64\n",
       "SellerID_fracReturnedNotNullDivDSEligible1    float64\n",
       "SellerID_numReturned1                         float64\n",
       "SellerID_fracReturned1DivReturnedNotNull      float64\n",
       "SellerID_numReturnedasm1                      float64\n",
       "dtype: object"
      ]
     },
     "execution_count": 16,
     "metadata": {},
     "output_type": "execute_result"
    }
   ],
   "source": [
    "df.dtypes[40:60]"
   ]
  },
  {
   "cell_type": "code",
   "execution_count": 17,
   "metadata": {
    "collapsed": false,
    "scrolled": true
   },
   "outputs": [
    {
     "data": {
      "text/plain": [
       "SellerID_fracReturnedasm1DivTransactions             float64\n",
       "VIN_numTransactions                                    int64\n",
       "VIN_numDSEligible1                                   float64\n",
       "VIN_fracDSEligible1DivTransactions                   float64\n",
       "VIN_numReturnedNotNull                               float64\n",
       "VIN_fracReturnedNotNullDivDSEligible1                float64\n",
       "VIN_numReturned1                                     float64\n",
       "VIN_fracReturned1DivReturnedNotNull                  float64\n",
       "VIN_numReturnedasm1                                  float64\n",
       "VIN_fracReturnedasm1DivTransactions                  float64\n",
       "SellingLocation_numTransactions                        int64\n",
       "SellingLocation_numDSEligible1                         int64\n",
       "SellingLocation_fracDSEligible1DivTransactions       float64\n",
       "SellingLocation_numReturnedNotNull                   float64\n",
       "SellingLocation_fracReturnedNotNullDivDSEligible1    float64\n",
       "SellingLocation_numReturned1                         float64\n",
       "SellingLocation_fracReturned1DivReturnedNotNull      float64\n",
       "SellingLocation_numReturnedasm1                      float64\n",
       "SellingLocation_fracReturnedasm1DivTransactions      float64\n",
       "CarMake_numTransactions                                int64\n",
       "dtype: object"
      ]
     },
     "execution_count": 17,
     "metadata": {},
     "output_type": "execute_result"
    }
   ],
   "source": [
    "df.dtypes[60:80]"
   ]
  },
  {
   "cell_type": "code",
   "execution_count": 18,
   "metadata": {
    "collapsed": false,
    "scrolled": true
   },
   "outputs": [
    {
     "data": {
      "text/plain": [
       "CarMake_numDSEligible1                           float64\n",
       "CarMake_fracDSEligible1DivTransactions           float64\n",
       "CarMake_numReturnedNotNull                       float64\n",
       "CarMake_fracReturnedNotNullDivDSEligible1        float64\n",
       "CarMake_numReturned1                             float64\n",
       "CarMake_fracReturned1DivReturnedNotNull          float64\n",
       "CarMake_numReturnedasm1                          float64\n",
       "CarMake_fracReturnedasm1DivTransactions          float64\n",
       "JDPowersCat_numTransactions                        int64\n",
       "JDPowersCat_numDSEligible1                         int64\n",
       "JDPowersCat_fracDSEligible1DivTransactions       float64\n",
       "JDPowersCat_numReturnedNotNull                     int64\n",
       "JDPowersCat_fracReturnedNotNullDivDSEligible1    float64\n",
       "JDPowersCat_numReturned1                           int64\n",
       "JDPowersCat_fracReturned1DivReturnedNotNull      float64\n",
       "JDPowersCat_numReturnedasm1                        int64\n",
       "JDPowersCat_fracReturnedasm1DivTransactions      float64\n",
       "dtype: object"
      ]
     },
     "execution_count": 18,
     "metadata": {},
     "output_type": "execute_result"
    }
   ],
   "source": [
    "df.dtypes[80:100]"
   ]
  },
  {
   "cell_type": "markdown",
   "metadata": {},
   "source": [
    "## Exploratory data analysis"
   ]
  },
  {
   "cell_type": "code",
   "execution_count": 19,
   "metadata": {
    "collapsed": true
   },
   "outputs": [],
   "source": [
    "# Define features\n",
    "ftrs = df.columns[np.logical_or(df.dtypes=='int64', df.dtypes=='float64')]"
   ]
  },
  {
   "cell_type": "code",
   "execution_count": null,
   "metadata": {
    "collapsed": false
   },
   "outputs": [
    {
     "data": {
      "text/html": [
       "<div>\n",
       "<table border=\"1\" class=\"dataframe\">\n",
       "  <thead>\n",
       "    <tr style=\"text-align: right;\">\n",
       "      <th></th>\n",
       "      <th>Mileage</th>\n",
       "      <th>SalePrice</th>\n",
       "      <th>CarYear</th>\n",
       "      <th>MMR</th>\n",
       "      <th>LIGHTG</th>\n",
       "      <th>LIGHTY</th>\n",
       "      <th>LIGHTR</th>\n",
       "      <th>PSI</th>\n",
       "      <th>Arbitrated</th>\n",
       "      <th>Salvage</th>\n",
       "      <th>...</th>\n",
       "      <th>CarMake_fracReturnedasm1DivTransactions</th>\n",
       "      <th>JDPowersCat_numTransactions</th>\n",
       "      <th>JDPowersCat_numDSEligible1</th>\n",
       "      <th>JDPowersCat_fracDSEligible1DivTransactions</th>\n",
       "      <th>JDPowersCat_numReturnedNotNull</th>\n",
       "      <th>JDPowersCat_fracReturnedNotNullDivDSEligible1</th>\n",
       "      <th>JDPowersCat_numReturned1</th>\n",
       "      <th>JDPowersCat_fracReturned1DivReturnedNotNull</th>\n",
       "      <th>JDPowersCat_numReturnedasm1</th>\n",
       "      <th>JDPowersCat_fracReturnedasm1DivTransactions</th>\n",
       "    </tr>\n",
       "  </thead>\n",
       "  <tbody>\n",
       "    <tr>\n",
       "      <th>count</th>\n",
       "      <td>278337.000000</td>\n",
       "      <td>278337.000000</td>\n",
       "      <td>278337.000000</td>\n",
       "      <td>278337.000000</td>\n",
       "      <td>278337.000000</td>\n",
       "      <td>278337.000000</td>\n",
       "      <td>278337.000000</td>\n",
       "      <td>278337.000000</td>\n",
       "      <td>278337.000000</td>\n",
       "      <td>278337.000000</td>\n",
       "      <td>...</td>\n",
       "      <td>278337.000000</td>\n",
       "      <td>278337.000000</td>\n",
       "      <td>278337.000000</td>\n",
       "      <td>278337.000000</td>\n",
       "      <td>278337.000000</td>\n",
       "      <td>278337.000000</td>\n",
       "      <td>278337.00000</td>\n",
       "      <td>278337.000000</td>\n",
       "      <td>278337.000000</td>\n",
       "      <td>278337.000000</td>\n",
       "    </tr>\n",
       "    <tr>\n",
       "      <th>mean</th>\n",
       "      <td>84228.544933</td>\n",
       "      <td>11973.232032</td>\n",
       "      <td>2007.407140</td>\n",
       "      <td>11388.524882</td>\n",
       "      <td>0.267977</td>\n",
       "      <td>0.042592</td>\n",
       "      <td>0.217998</td>\n",
       "      <td>0.306650</td>\n",
       "      <td>0.071316</td>\n",
       "      <td>0.037555</td>\n",
       "      <td>...</td>\n",
       "      <td>0.070095</td>\n",
       "      <td>53370.273823</td>\n",
       "      <td>50731.510123</td>\n",
       "      <td>0.944876</td>\n",
       "      <td>3810.885825</td>\n",
       "      <td>0.074806</td>\n",
       "      <td>798.60481</td>\n",
       "      <td>0.211736</td>\n",
       "      <td>3437.368510</td>\n",
       "      <td>0.070095</td>\n",
       "    </tr>\n",
       "    <tr>\n",
       "      <th>std</th>\n",
       "      <td>54879.931708</td>\n",
       "      <td>9083.860494</td>\n",
       "      <td>3.956124</td>\n",
       "      <td>9025.527367</td>\n",
       "      <td>0.442907</td>\n",
       "      <td>0.201936</td>\n",
       "      <td>0.412887</td>\n",
       "      <td>0.461104</td>\n",
       "      <td>0.257353</td>\n",
       "      <td>0.190118</td>\n",
       "      <td>...</td>\n",
       "      <td>0.031658</td>\n",
       "      <td>25265.257670</td>\n",
       "      <td>24447.790690</td>\n",
       "      <td>0.019648</td>\n",
       "      <td>1843.951429</td>\n",
       "      <td>0.004338</td>\n",
       "      <td>387.93731</td>\n",
       "      <td>0.031400</td>\n",
       "      <td>1283.731109</td>\n",
       "      <td>0.018828</td>\n",
       "    </tr>\n",
       "    <tr>\n",
       "      <th>min</th>\n",
       "      <td>1.000000</td>\n",
       "      <td>1.000000</td>\n",
       "      <td>1936.000000</td>\n",
       "      <td>0.000000</td>\n",
       "      <td>0.000000</td>\n",
       "      <td>0.000000</td>\n",
       "      <td>0.000000</td>\n",
       "      <td>0.000000</td>\n",
       "      <td>0.000000</td>\n",
       "      <td>0.000000</td>\n",
       "      <td>...</td>\n",
       "      <td>0.000000</td>\n",
       "      <td>356.000000</td>\n",
       "      <td>236.000000</td>\n",
       "      <td>0.662921</td>\n",
       "      <td>4.000000</td>\n",
       "      <td>0.016949</td>\n",
       "      <td>1.00000</td>\n",
       "      <td>0.160000</td>\n",
       "      <td>121.000000</td>\n",
       "      <td>0.053884</td>\n",
       "    </tr>\n",
       "    <tr>\n",
       "      <th>25%</th>\n",
       "      <td>38778.000000</td>\n",
       "      <td>5600.000000</td>\n",
       "      <td>2005.000000</td>\n",
       "      <td>4775.000000</td>\n",
       "      <td>0.000000</td>\n",
       "      <td>0.000000</td>\n",
       "      <td>0.000000</td>\n",
       "      <td>0.000000</td>\n",
       "      <td>0.000000</td>\n",
       "      <td>0.000000</td>\n",
       "      <td>...</td>\n",
       "      <td>0.057439</td>\n",
       "      <td>34850.000000</td>\n",
       "      <td>33018.000000</td>\n",
       "      <td>0.939576</td>\n",
       "      <td>2474.000000</td>\n",
       "      <td>0.073875</td>\n",
       "      <td>555.00000</td>\n",
       "      <td>0.193163</td>\n",
       "      <td>2410.000000</td>\n",
       "      <td>0.053884</td>\n",
       "    </tr>\n",
       "    <tr>\n",
       "      <th>50%</th>\n",
       "      <td>79599.000000</td>\n",
       "      <td>10100.000000</td>\n",
       "      <td>2008.000000</td>\n",
       "      <td>9700.000000</td>\n",
       "      <td>0.000000</td>\n",
       "      <td>0.000000</td>\n",
       "      <td>0.000000</td>\n",
       "      <td>0.000000</td>\n",
       "      <td>0.000000</td>\n",
       "      <td>0.000000</td>\n",
       "      <td>...</td>\n",
       "      <td>0.071465</td>\n",
       "      <td>61532.000000</td>\n",
       "      <td>57814.000000</td>\n",
       "      <td>0.945218</td>\n",
       "      <td>4271.000000</td>\n",
       "      <td>0.074651</td>\n",
       "      <td>825.00000</td>\n",
       "      <td>0.212652</td>\n",
       "      <td>4543.000000</td>\n",
       "      <td>0.073832</td>\n",
       "    </tr>\n",
       "    <tr>\n",
       "      <th>75%</th>\n",
       "      <td>114088.000000</td>\n",
       "      <td>16000.000000</td>\n",
       "      <td>2011.000000</td>\n",
       "      <td>15750.000000</td>\n",
       "      <td>1.000000</td>\n",
       "      <td>0.000000</td>\n",
       "      <td>0.000000</td>\n",
       "      <td>1.000000</td>\n",
       "      <td>0.000000</td>\n",
       "      <td>0.000000</td>\n",
       "      <td>...</td>\n",
       "      <td>0.076672</td>\n",
       "      <td>84831.000000</td>\n",
       "      <td>81571.000000</td>\n",
       "      <td>0.961571</td>\n",
       "      <td>6165.000000</td>\n",
       "      <td>0.075578</td>\n",
       "      <td>1311.00000</td>\n",
       "      <td>0.224333</td>\n",
       "      <td>4571.000000</td>\n",
       "      <td>0.074422</td>\n",
       "    </tr>\n",
       "    <tr>\n",
       "      <th>max</th>\n",
       "      <td>999999.000000</td>\n",
       "      <td>355000.000000</td>\n",
       "      <td>2014.000000</td>\n",
       "      <td>172000.000000</td>\n",
       "      <td>1.000000</td>\n",
       "      <td>1.000000</td>\n",
       "      <td>1.000000</td>\n",
       "      <td>1.000000</td>\n",
       "      <td>1.000000</td>\n",
       "      <td>1.000000</td>\n",
       "      <td>...</td>\n",
       "      <td>1.000000</td>\n",
       "      <td>84831.000000</td>\n",
       "      <td>81571.000000</td>\n",
       "      <td>0.961571</td>\n",
       "      <td>6165.000000</td>\n",
       "      <td>0.078260</td>\n",
       "      <td>1311.00000</td>\n",
       "      <td>0.278337</td>\n",
       "      <td>4571.000000</td>\n",
       "      <td>0.339888</td>\n",
       "    </tr>\n",
       "  </tbody>\n",
       "</table>\n",
       "<p>8 rows × 90 columns</p>\n",
       "</div>"
      ],
      "text/plain": [
       "             Mileage      SalePrice        CarYear            MMR  \\\n",
       "count  278337.000000  278337.000000  278337.000000  278337.000000   \n",
       "mean    84228.544933   11973.232032    2007.407140   11388.524882   \n",
       "std     54879.931708    9083.860494       3.956124    9025.527367   \n",
       "min         1.000000       1.000000    1936.000000       0.000000   \n",
       "25%     38778.000000    5600.000000    2005.000000    4775.000000   \n",
       "50%     79599.000000   10100.000000    2008.000000    9700.000000   \n",
       "75%    114088.000000   16000.000000    2011.000000   15750.000000   \n",
       "max    999999.000000  355000.000000    2014.000000  172000.000000   \n",
       "\n",
       "              LIGHTG         LIGHTY         LIGHTR            PSI  \\\n",
       "count  278337.000000  278337.000000  278337.000000  278337.000000   \n",
       "mean        0.267977       0.042592       0.217998       0.306650   \n",
       "std         0.442907       0.201936       0.412887       0.461104   \n",
       "min         0.000000       0.000000       0.000000       0.000000   \n",
       "25%         0.000000       0.000000       0.000000       0.000000   \n",
       "50%         0.000000       0.000000       0.000000       0.000000   \n",
       "75%         1.000000       0.000000       0.000000       1.000000   \n",
       "max         1.000000       1.000000       1.000000       1.000000   \n",
       "\n",
       "          Arbitrated        Salvage  \\\n",
       "count  278337.000000  278337.000000   \n",
       "mean        0.071316       0.037555   \n",
       "std         0.257353       0.190118   \n",
       "min         0.000000       0.000000   \n",
       "25%         0.000000       0.000000   \n",
       "50%         0.000000       0.000000   \n",
       "75%         0.000000       0.000000   \n",
       "max         1.000000       1.000000   \n",
       "\n",
       "                          ...                       \\\n",
       "count                     ...                        \n",
       "mean                      ...                        \n",
       "std                       ...                        \n",
       "min                       ...                        \n",
       "25%                       ...                        \n",
       "50%                       ...                        \n",
       "75%                       ...                        \n",
       "max                       ...                        \n",
       "\n",
       "       CarMake_fracReturnedasm1DivTransactions  JDPowersCat_numTransactions  \\\n",
       "count                            278337.000000                278337.000000   \n",
       "mean                                  0.070095                 53370.273823   \n",
       "std                                   0.031658                 25265.257670   \n",
       "min                                   0.000000                   356.000000   \n",
       "25%                                   0.057439                 34850.000000   \n",
       "50%                                   0.071465                 61532.000000   \n",
       "75%                                   0.076672                 84831.000000   \n",
       "max                                   1.000000                 84831.000000   \n",
       "\n",
       "       JDPowersCat_numDSEligible1  JDPowersCat_fracDSEligible1DivTransactions  \\\n",
       "count               278337.000000                               278337.000000   \n",
       "mean                 50731.510123                                    0.944876   \n",
       "std                  24447.790690                                    0.019648   \n",
       "min                    236.000000                                    0.662921   \n",
       "25%                  33018.000000                                    0.939576   \n",
       "50%                  57814.000000                                    0.945218   \n",
       "75%                  81571.000000                                    0.961571   \n",
       "max                  81571.000000                                    0.961571   \n",
       "\n",
       "       JDPowersCat_numReturnedNotNull  \\\n",
       "count                   278337.000000   \n",
       "mean                      3810.885825   \n",
       "std                       1843.951429   \n",
       "min                          4.000000   \n",
       "25%                       2474.000000   \n",
       "50%                       4271.000000   \n",
       "75%                       6165.000000   \n",
       "max                       6165.000000   \n",
       "\n",
       "       JDPowersCat_fracReturnedNotNullDivDSEligible1  \\\n",
       "count                                  278337.000000   \n",
       "mean                                        0.074806   \n",
       "std                                         0.004338   \n",
       "min                                         0.016949   \n",
       "25%                                         0.073875   \n",
       "50%                                         0.074651   \n",
       "75%                                         0.075578   \n",
       "max                                         0.078260   \n",
       "\n",
       "       JDPowersCat_numReturned1  JDPowersCat_fracReturned1DivReturnedNotNull  \\\n",
       "count              278337.00000                                278337.000000   \n",
       "mean                  798.60481                                     0.211736   \n",
       "std                   387.93731                                     0.031400   \n",
       "min                     1.00000                                     0.160000   \n",
       "25%                   555.00000                                     0.193163   \n",
       "50%                   825.00000                                     0.212652   \n",
       "75%                  1311.00000                                     0.224333   \n",
       "max                  1311.00000                                     0.278337   \n",
       "\n",
       "       JDPowersCat_numReturnedasm1  \\\n",
       "count                278337.000000   \n",
       "mean                   3437.368510   \n",
       "std                    1283.731109   \n",
       "min                     121.000000   \n",
       "25%                    2410.000000   \n",
       "50%                    4543.000000   \n",
       "75%                    4571.000000   \n",
       "max                    4571.000000   \n",
       "\n",
       "       JDPowersCat_fracReturnedasm1DivTransactions  \n",
       "count                                278337.000000  \n",
       "mean                                      0.070095  \n",
       "std                                       0.018828  \n",
       "min                                       0.053884  \n",
       "25%                                       0.053884  \n",
       "50%                                       0.073832  \n",
       "75%                                       0.074422  \n",
       "max                                       0.339888  \n",
       "\n",
       "[8 rows x 90 columns]"
      ]
     },
     "execution_count": 20,
     "metadata": {},
     "output_type": "execute_result"
    }
   ],
   "source": [
    "# Describe features\n",
    "df[ftrs].describe(include='all')"
   ]
  },
  {
   "cell_type": "code",
   "execution_count": null,
   "metadata": {
    "collapsed": false,
    "scrolled": true
   },
   "outputs": [
    {
     "name": "stdout",
     "output_type": "stream",
     "text": [
      "################################################################################\n",
      "Feature: Mileage\n"
     ]
    },
    {
     "data": {
      "image/png": "[encoded data removed]",
      "text/plain": [
       "<matplotlib.figure.Figure at 0x7fb2982c7ef0>"
      ]
     },
     "metadata": {},
     "output_type": "display_data"
    },
    {
     "data": {
      "image/png": "[encoded data removed]",
      "text/plain": [
       "<matplotlib.figure.Figure at 0x7fb24e0004a8>"
      ]
     },
     "metadata": {},
     "output_type": "display_data"
    },
    {
     "name": "stdout",
     "output_type": "stream",
     "text": [
      "################################################################################\n",
      "Feature: SalePrice\n"
     ]
    },
    {
     "data": {
      "image/png": "[encoded data removed]",
      "text/plain": [
       "<matplotlib.figure.Figure at 0x7fb251a66208>"
      ]
     },
     "metadata": {},
     "output_type": "display_data"
    },
    {
     "data": {
      "image/png": "[encoded data removed]",
      "text/plain": [
       "<matplotlib.figure.Figure at 0x7fb25d13aa90>"
      ]
     },
     "metadata": {},
     "output_type": "display_data"
    },
    {
     "name": "stdout",
     "output_type": "stream",
     "text": [
      "################################################################################\n",
      "Feature: CarYear\n"
     ]
    },
    {
     "data": {
      "image/png": "[encoded data removed]",
      "text/plain": [
       "<matplotlib.figure.Figure at 0x7fb25d105a58>"
      ]
     },
     "metadata": {},
     "output_type": "display_data"
    },
    {
     "data": {
      "image/png": "[encoded data removed]",
      "text/plain": [
       "<matplotlib.figure.Figure at 0x7fb25cf69fd0>"
      ]
     },
     "metadata": {},
     "output_type": "display_data"
    },
    {
     "name": "stdout",
     "output_type": "stream",
     "text": [
      "################################################################################\n",
      "Feature: MMR\n"
     ]
    },
    {
     "data": {
      "image/png": "[encoded data removed]",
      "text/plain": [
       "<matplotlib.figure.Figure at 0x7fb25d02df60>"
      ]
     },
     "metadata": {},
     "output_type": "display_data"
    },
    {
     "data": {
      "image/png": "[encoded data removed]",
      "text/plain": [
       "<matplotlib.figure.Figure at 0x7fb25cfc4630>"
      ]
     },
     "metadata": {},
     "output_type": "display_data"
    },
    {
     "name": "stdout",
     "output_type": "stream",
     "text": [
      "################################################################################\n",
      "Feature: LIGHTG\n"
     ]
    }
   ],
   "source": [
    "# re-initialize matplotlib inline in case handle dropped\n",
    "%matplotlib inline\n",
    "demo.app_predict.predict.plot_freq_dists(\n",
    "    df=df,\n",
    "    ftrs=ftrs,\n",
    "    path_plot_dir=os.path.join(path_data_dir, 'plot_freq_dists'))"
   ]
  },
  {
   "cell_type": "markdown",
   "metadata": {},
   "source": [
    "## Heuristic"
   ]
  },
  {
   "cell_type": "code",
   "execution_count": null,
   "metadata": {
    "collapsed": false
   },
   "outputs": [],
   "source": [
    "# re-initialize matplotlib inline in case handle dropped\n",
    "%matplotlib inline\n",
    "demo.app_predict.predict.plot_heuristic(\n",
    "    df=df,\n",
    "    path_plot_dir=os.path.join(path_data_dir, 'plot_heuristic'))"
   ]
  },
  {
   "cell_type": "code",
   "execution_count": null,
   "metadata": {
    "collapsed": true
   },
   "outputs": [],
   "source": [
    "# Test heuristic"
   ]
  },
  {
   "cell_type": "code",
   "execution_count": 83,
   "metadata": {
    "collapsed": false
   },
   "outputs": [
    {
     "data": {
      "text/plain": [
       "139168.5"
      ]
     },
     "execution_count": 83,
     "metadata": {},
     "output_type": "execute_result"
    }
   ],
   "source": [
    "len(df)/2"
   ]
  },
  {
   "cell_type": "code",
   "execution_count": null,
   "metadata": {
    "collapsed": true
   },
   "outputs": [],
   "source": []
  },
  {
   "cell_type": "code",
   "execution_count": null,
   "metadata": {
    "collapsed": true
   },
   "outputs": [],
   "source": []
  },
  {
   "cell_type": "code",
   "execution_count": null,
   "metadata": {
    "collapsed": true
   },
   "outputs": [],
   "source": []
  },
  {
   "cell_type": "code",
   "execution_count": null,
   "metadata": {
    "collapsed": true
   },
   "outputs": [],
   "source": [
    "# REDO BELOW"
   ]
  },
  {
   "cell_type": "code",
   "execution_count": null,
   "metadata": {
    "collapsed": true
   },
   "outputs": [],
   "source": []
  },
  {
   "cell_type": "code",
   "execution_count": null,
   "metadata": {
    "collapsed": false
   },
   "outputs": [],
   "source": [
    "# TODO\n",
    "# Determine which features are categorical and plot.\n",
    "# Features are considered \"categorical\" if\n",
    "# num_unique_feature_values < min(num_unique_id_values, num_unique_target_values)\n",
    "(df_ftrs, ds_trg) = (step.s2.dfs.df_features_model, step.s2.dfs.ds_target_model)\n",
    "(nuniq_uid, nuniq_trg) = (len(df_ftrs['SERIALNO'].unique()), len(ds_trg.unique()))\n",
    "nuniq_min = min(nuniq_uid, nuniq_trg)\n",
    "(ftr_nuniq, nuniq_nftrs, cat_ftrs) = (dict(), collections.defaultdict(int), list())\n",
    "for ftr in df_ftrs.columns:\n",
    "    ftr_nuniq[ftr] = len(df_ftrs[ftr].unique())\n",
    "for (ftr, nuniq) in ftr_nuniq.items():\n",
    "    nuniq_nftrs[nuniq] += 1\n",
    "    if 1 < nuniq < nuniq_min:\n",
    "        cat_ftrs.append(ftr)\n",
    "nuniq_nftrs = np.asarray(sorted(nuniq_nftrs.items()))\n",
    "tfmask = np.logical_and(1 < nuniq_nftrs[:, 0], nuniq_nftrs[:, 0] < nuniq_min)\n",
    "nuniq_nftrs_cat = nuniq_nftrs[tfmask]\n",
    "if not np.sum(nuniq_nftrs_cat[:, 1]) == len(cat_ftrs):\n",
    "    raise AssertionError(\n",
    "        (\"Program error. The tallies of categorical features do not match.\\n\" +\n",
    "         \"Required: np.sum(nuniq_nftrs_cat[:, 1]) == len(cat_ftrs)\\n\" +\n",
    "         \"Given: {lhs} == {rhs}\").format(\n",
    "            lhs=np.sum(nuniq_nftrs_cat[:, 1]), rhs=len(cat_ftrs)))\n",
    "print(\n",
    "    (\"Features are considered 'categorical' if num_unique_feature_values\\n\" +\n",
    "     \"    < min(num_unique_id_values ({uid}), num_unique_target_values ({trg}))\\n\" +\n",
    "     \"    = min({nuid}, {ntrg}) = {nmin}\\n\" +\n",
    "     \"Percent of features that are categorical: {frac:.1%}\").format(\n",
    "        uid='SERIALNO', trg=step.s0.dfs.ds_target_model.name,\n",
    "        nuid=nuniq_uid, ntrg=nuniq_trg, nmin=nuniq_min,\n",
    "        frac=len(cat_ftrs)/len(df_ftrs.columns)))\n",
    "plt.semilogx(\n",
    "    nuniq_nftrs[:, 0], nuniq_nftrs[:, 1], marker='.', linestyle='-',\n",
    "    color=sns.color_palette()[0], label='features')\n",
    "plt.semilogx(\n",
    "    nuniq_nftrs_cat[:, 0], nuniq_nftrs_cat[:, 1], marker='o', linestyle='',\n",
    "    color=sns.color_palette('dark')[0], label='categorical features')\n",
    "plt.axvline(\n",
    "    x=len(step.s2.dfs.ds_target_model.unique()),\n",
    "    color=sns.color_palette()[1], label=step.s2.dfs.ds_target_model.name)\n",
    "plt.axvline(\n",
    "    x=len(step.s2.dfs.df_features_model['SERIALNO'].unique()),\n",
    "    color=sns.color_palette()[2], label='SERIALNO')\n",
    "plt.title(\"Number of feature vs number of unique values per feature\")\n",
    "plt.xlabel(\"Number of unique values per feature\")\n",
    "plt.ylabel(\"Number of features\")\n",
    "plt.legend(loc='upper center')\n",
    "plt.show()"
   ]
  }
 ],
 "metadata": {
  "anaconda-cloud": {},
  "kernelspec": {
   "display_name": "Python [Root]",
   "language": "python",
   "name": "Python [Root]"
  },
  "language_info": {
   "codemirror_mode": {
    "name": "ipython",
    "version": 3
   },
   "file_extension": ".py",
   "mimetype": "text/x-python",
   "name": "python",
   "nbconvert_exporter": "python",
   "pygments_lexer": "ipython3",
   "version": "3.5.2"
  }
 },
 "nbformat": 4,
 "nbformat_minor": 0
}
