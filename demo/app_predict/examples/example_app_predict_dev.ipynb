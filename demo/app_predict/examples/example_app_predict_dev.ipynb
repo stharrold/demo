{
 "cells": [
  {
   "cell_type": "markdown",
   "metadata": {},
   "source": [
    "# Example development notebook for `app_predict`\n",
    "\n",
    "Related wiki page:  \n",
    "https://github.com/stharrold/demo/wiki/app_predict"
   ]
  },
  {
   "cell_type": "code",
   "execution_count": 2,
   "metadata": {
    "collapsed": false
   },
   "outputs": [
    {
     "name": "stdout",
     "output_type": "stream",
     "text": [
      "/opt/demo\n"
     ]
    }
   ],
   "source": [
    "cd /opt/demo"
   ]
  },
  {
   "cell_type": "code",
   "execution_count": 2,
   "metadata": {
    "collapsed": false
   },
   "outputs": [
    {
     "name": "stderr",
     "output_type": "stream",
     "text": [
      "/opt/conda/lib/python3.5/site-packages/matplotlib/font_manager.py:273: UserWarning: Matplotlib is building the font cache using fc-list. This may take a moment.\n",
      "  warnings.warn('Matplotlib is building the font cache using fc-list. This may take a moment.')\n",
      "/opt/conda/lib/python3.5/site-packages/matplotlib/font_manager.py:273: UserWarning: Matplotlib is building the font cache using fc-list. This may take a moment.\n",
      "  warnings.warn('Matplotlib is building the font cache using fc-list. This may take a moment.')\n"
     ]
    }
   ],
   "source": [
    "# Import standard packages.\n",
    "import os\n",
    "import sys\n",
    "import time\n",
    "# Import installed packages.\n",
    "# Import local packages.\n",
    "sys.path.insert(0, os.path.join(os.path.curdir, r'demo'))\n",
    "%reload_ext autoreload\n",
    "%autoreload 2\n",
    "import demo\n",
    "%matplotlib inline"
   ]
  },
  {
   "cell_type": "code",
   "execution_count": 3,
   "metadata": {
    "collapsed": false
   },
   "outputs": [
    {
     "name": "stdout",
     "output_type": "stream",
     "text": [
      "Timestamp:\n",
      "2017-02-24T15:17:23GMT\n",
      "\n",
      "Versions:\n",
      "Python: sys.version_info(major=3, minor=5, micro=2, releaselevel='final', serial=0)\n",
      "demo: 0.0.0\n"
     ]
    }
   ],
   "source": [
    "print(\"Timestamp:\")\n",
    "print(time.strftime(r'%Y-%m-%dT%H:%M:%S%Z', time.gmtime()))\n",
    "print()\n",
    "print(\"Versions:\")\n",
    "print(\"Python:\", sys.version_info)\n",
    "print(\"demo:\", demo.__version__)"
   ]
  },
  {
   "cell_type": "code",
   "execution_count": 4,
   "metadata": {
    "collapsed": false,
    "scrolled": true
   },
   "outputs": [
    {
     "name": "stdout",
     "output_type": "stream",
     "text": [
      "\u001b[1m============================= test session starts ==============================\u001b[0m\n",
      "platform linux -- Python 3.5.2, pytest-2.9.2, py-1.4.31, pluggy-0.3.1 -- /opt/conda/bin/python\n",
      "cachedir: .cache\n",
      "rootdir: /opt/demo, inifile: \n",
      "collected 8 items \n",
      "\u001b[0m\n",
      "tests/test__init__.py::test__all__ \u001b[32mPASSED\u001b[0m\n",
      "tests/test__init__.py::test__version__ \u001b[32mPASSED\u001b[0m\n",
      "tests/test_app_template/test_app_template__init__.py::test__all__ \u001b[32mPASSED\u001b[0m\n",
      "tests/test_app_template/test_app_template_main.py::test__all__ \u001b[32mPASSED\u001b[0m\n",
      "tests/test_app_template/test_app_template_main.py::test_main \u001b[32mPASSED\u001b[0m\n",
      "tests/test_app_template/test_app_template_main.py::test__main__ \u001b[32mPASSED\u001b[0m\n",
      "tests/test_app_template/test_template.py::test_prepend_this \u001b[32mPASSED\u001b[0m\n",
      "tests/test_utils/test_utils__init__.py::test__all__ \u001b[32mPASSED\u001b[0m\n",
      "\n",
      "\u001b[32m\u001b[1m=========================== 8 passed in 4.68 seconds ===========================\u001b[0m\n"
     ]
    }
   ],
   "source": [
    "!py.test -v --pdb"
   ]
  },
  {
   "cell_type": "markdown",
   "metadata": {
    "collapsed": true
   },
   "source": [
    "# Development below"
   ]
  },
  {
   "cell_type": "markdown",
   "metadata": {},
   "source": [
    "## Initialization"
   ]
  },
  {
   "cell_type": "markdown",
   "metadata": {},
   "source": [
    "### Imports"
   ]
  },
  {
   "cell_type": "code",
   "execution_count": 3,
   "metadata": {
    "collapsed": false
   },
   "outputs": [
    {
     "name": "stdout",
     "output_type": "stream",
     "text": [
      "/opt/demo\n"
     ]
    }
   ],
   "source": [
    "cd /opt/demo"
   ]
  },
  {
   "cell_type": "code",
   "execution_count": 4,
   "metadata": {
    "collapsed": false
   },
   "outputs": [
    {
     "name": "stderr",
     "output_type": "stream",
     "text": [
      "/opt/conda/lib/python3.5/site-packages/matplotlib/font_manager.py:273: UserWarning: Matplotlib is building the font cache using fc-list. This may take a moment.\n",
      "  warnings.warn('Matplotlib is building the font cache using fc-list. This may take a moment.')\n",
      "/opt/conda/lib/python3.5/site-packages/matplotlib/font_manager.py:273: UserWarning: Matplotlib is building the font cache using fc-list. This may take a moment.\n",
      "  warnings.warn('Matplotlib is building the font cache using fc-list. This may take a moment.')\n"
     ]
    }
   ],
   "source": [
    "# Import standard packages.\n",
    "import collections\n",
    "import glob\n",
    "import io\n",
    "import os\n",
    "import pickle\n",
    "import subprocess\n",
    "import sys\n",
    "import time\n",
    "import warnings\n",
    "# Import installed packages.\n",
    "import matplotlib as mpl\n",
    "import matplotlib.pyplot as plt\n",
    "import numpy as np\n",
    "import pandas as pd\n",
    "import scipy\n",
    "import seaborn as sns\n",
    "import sklearn as sk\n",
    "import sklearn.cross_validation as sk_cv\n",
    "import sklearn.cluster as sk_cl\n",
    "import sklearn.decomposition as sk_dc\n",
    "import sklearn.ensemble as sk_ens\n",
    "import sklearn.metrics as sk_met\n",
    "import sklearn.preprocessing as sk_pre\n",
    "# Import local packages.\n",
    "# datascience version: TODO link to GitHub tag v0.0.1.\n",
    "sys.path.insert(0, os.path.join(os.path.curdir, r'demo'))\n",
    "%reload_ext autoreload\n",
    "%autoreload 2\n",
    "import demo\n",
    "%matplotlib inline"
   ]
  },
  {
   "cell_type": "code",
   "execution_count": 5,
   "metadata": {
    "collapsed": false
   },
   "outputs": [
    {
     "name": "stdout",
     "output_type": "stream",
     "text": [
      "Timestamp:\n",
      "2017-02-24T21:26:10GMT\n",
      "\n",
      "Versions:\n",
      "Python: sys.version_info(major=3, minor=5, micro=2, releaselevel='final', serial=0)\n",
      "matplotlib: 1.5.1\n",
      "numpy: 1.11.1\n",
      "pandas: 0.18.1\n",
      "scipy: 0.17.1\n",
      "sklearn: 0.17.1\n",
      "seaborn: 0.7.1\n",
      "demo: 0.0.0\n"
     ]
    }
   ],
   "source": [
    "print(\"Timestamp:\")\n",
    "print(time.strftime(r'%Y-%m-%dT%H:%M:%S%Z', time.gmtime()))\n",
    "print()\n",
    "print(\"Versions:\")\n",
    "print(\"Python:\", sys.version_info)\n",
    "print(\"matplotlib:\", mpl.__version__)\n",
    "print(\"numpy:\", np.__version__)\n",
    "print(\"pandas:\", pd.__version__)\n",
    "print(\"scipy:\", scipy.__version__)\n",
    "print(\"sklearn:\", sk.__version__)\n",
    "print(\"seaborn:\", sns.__version__)\n",
    "print(\"demo:\", demo.__version__)"
   ]
  },
  {
   "cell_type": "markdown",
   "metadata": {},
   "source": [
    "### Globals"
   ]
  },
  {
   "cell_type": "code",
   "execution_count": 8,
   "metadata": {
    "collapsed": false
   },
   "outputs": [
    {
     "name": "stdout",
     "output_type": "stream",
     "text": [
      "\u001b[0m\u001b[01;34mbin\u001b[0m/   \u001b[01;34mdev\u001b[0m/  \u001b[01;34mhome\u001b[0m/  \u001b[01;34mlib64\u001b[0m/  \u001b[01;34mmnt\u001b[0m/  \u001b[01;34mproc\u001b[0m/  \u001b[01;34mrun\u001b[0m/   \u001b[01;34msrv\u001b[0m/  \u001b[30;42mtmp\u001b[0m/  \u001b[01;34mvar\u001b[0m/\r\n",
      "\u001b[01;34mboot\u001b[0m/  \u001b[01;34metc\u001b[0m/  \u001b[01;34mlib\u001b[0m/   \u001b[01;34mmedia\u001b[0m/  \u001b[01;34mopt\u001b[0m/  \u001b[01;34mroot\u001b[0m/  \u001b[01;34msbin\u001b[0m/  \u001b[01;34msys\u001b[0m/  \u001b[01;34musr\u001b[0m/\r\n"
     ]
    }
   ],
   "source": [
    "ls "
   ]
  },
  {
   "cell_type": "code",
   "execution_count": 14,
   "metadata": {
    "collapsed": false
   },
   "outputs": [
    {
     "name": "stderr",
     "output_type": "stream",
     "text": [
      "ERROR: Cell magic `%%R` not found.\n"
     ]
    }
   ],
   "source": [
    "# State settings.\n",
    "sns.set() # Set matplot lib styles with seaborn\n",
    "np.random.seed(seed=1) # Set random state for reproducibility.\n",
    "\n",
    "# File paths\n",
    "path_app = os.path.join(r'/home_vagrant/datascience/datascience/app_reporting')\n",
    "path_data = os.path.join(path_app, r'data')\n",
    "paths_overviews_oldnew = glob.glob(\n",
    "    path_data+'/'+\n",
    "    r'20160527_GA_*_Analytics theodysseyonline.com Audience Overview 20140101-20160526.csv')\n",
    "path_sessionsbychannel_oldnew = os.path.join(\n",
    "    path_data,\n",
    "    r'20160527_GA_SessionsByChannels_Analytics theodysseyonline.com Channels 20140101-20160526.csv')\n",
    "paths_fb_oldnew = glob.glob(\n",
    "    path_data+'/'+\n",
    "    r'20160601_FB_*.csv')\n",
    "\n",
    "# Date of launch of new site.\n",
    "date_launch = pd.to_datetime('2016-05-11')\n",
    "\n",
    "# Statistics\n",
    "# percentiles = [-1.6449 sigma, -1 sigma, mean, +1 sigma, +1.6449 sigma] for normal distribution\n",
    "# 90.00% confidence interval = (percentiles[0], percentiles[-1])\n",
    "# 68.27% confidence interval = (percentiles[1], percentiles[-2])\n",
    "# median = percentiles[2]\n",
    "percentiles = [0.0500, 0.1587, 0.5000, 0.8413, 0.9500]"
   ]
  },
  {
   "cell_type": "code",
   "execution_count": null,
   "metadata": {
    "collapsed": true
   },
   "outputs": [],
   "source": []
  }
 ],
 "metadata": {
  "anaconda-cloud": {},
  "kernelspec": {
   "display_name": "Python [Root]",
   "language": "python",
   "name": "Python [Root]"
  },
  "language_info": {
   "codemirror_mode": {
    "name": "ipython",
    "version": 3
   },
   "file_extension": ".py",
   "mimetype": "text/x-python",
   "name": "python",
   "nbconvert_exporter": "python",
   "pygments_lexer": "ipython3",
   "version": "3.5.2"
  }
 },
 "nbformat": 4,
 "nbformat_minor": 0
}
