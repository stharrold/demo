{
 "cells": [
  {
   "cell_type": "markdown",
   "metadata": {},
   "source": [
    "# Example app_template\n",
    "\n",
    "Related wiki page:  \n",
    "https://github.com/stharrold/demo/wiki/app_template"
   ]
  },
  {
   "cell_type": "code",
   "execution_count": 1,
   "metadata": {
    "collapsed": false
   },
   "outputs": [
    {
     "name": "stdout",
     "output_type": "stream",
     "text": [
      "/opt/demo\n"
     ]
    }
   ],
   "source": [
    "cd /opt/demo"
   ]
  },
  {
   "cell_type": "code",
   "execution_count": 2,
   "metadata": {
    "collapsed": false
   },
   "outputs": [
    {
     "name": "stdout",
     "output_type": "stream",
     "text": [
      "Fri Sep 16 18:40:49 UTC 2016\n",
      "__version__ = '0.1.0'\n"
     ]
    }
   ],
   "source": [
    "!date --utc\n",
    "!grep \"__version__\" demo/__init__.py"
   ]
  },
  {
   "cell_type": "code",
   "execution_count": 3,
   "metadata": {
    "collapsed": false
   },
   "outputs": [
    {
     "name": "stdout",
     "output_type": "stream",
     "text": [
      "usage: main.py [-h] --app_arg APP_ARG\r\n",
      "               [--logging_level {DEBUG,INFO,WARNING,ERROR,CRITICAL}]\r\n",
      "\r\n",
      "Template for data science applications.\r\n",
      "\r\n",
      "optional arguments:\r\n",
      "  -h, --help            show this help message and exit\r\n",
      "  --app_arg APP_ARG     Argument to pass to the template application. Example:\r\n",
      "                        '1234'\r\n",
      "  --logging_level {DEBUG,INFO,WARNING,ERROR,CRITICAL}\r\n",
      "                        Verbosity of logging level from 'DEBUG' (most) to\r\n",
      "                        'CRITICAL' (least). Default: INFO\r\n"
     ]
    }
   ],
   "source": [
    "!python demo/app_template/main.py --help"
   ]
  },
  {
   "cell_type": "code",
   "execution_count": 4,
   "metadata": {
    "collapsed": false
   },
   "outputs": [
    {
     "name": "stdout",
     "output_type": "stream",
     "text": [
      "Azure container:\r\n",
      "demo-logs\r\n",
      "Azure blob:\r\n",
      "20160916T184100Z_app-template.log\r\n"
     ]
    }
   ],
   "source": [
    "!python demo/app_template/main.py --app_arg 'my argument'"
   ]
  }
 ],
 "metadata": {
  "anaconda-cloud": {},
  "kernelspec": {
   "display_name": "Python [Root]",
   "language": "python",
   "name": "Python [Root]"
  },
  "language_info": {
   "codemirror_mode": {
    "name": "ipython",
    "version": 3
   },
   "file_extension": ".py",
   "mimetype": "text/x-python",
   "name": "python",
   "nbconvert_exporter": "python",
   "pygments_lexer": "ipython3",
   "version": "3.5.2"
  }
 },
 "nbformat": 4,
 "nbformat_minor": 0
}
