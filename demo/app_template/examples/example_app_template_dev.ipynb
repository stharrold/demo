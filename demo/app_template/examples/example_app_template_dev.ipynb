{
 "cells": [
  {
   "cell_type": "markdown",
   "metadata": {},
   "source": [
    "# Example development notebook for app_template\n",
    "\n",
    "Related wiki page:  \n",
    "https://github.com/stharrold/demo/wiki/app_template"
   ]
  },
  {
   "cell_type": "code",
   "execution_count": 1,
   "metadata": {
    "collapsed": false
   },
   "outputs": [
    {
     "name": "stdout",
     "output_type": "stream",
     "text": [
      "/opt/demo\n"
     ]
    }
   ],
   "source": [
    "cd /opt/demo"
   ]
  },
  {
   "cell_type": "code",
   "execution_count": 2,
   "metadata": {
    "collapsed": false
   },
   "outputs": [],
   "source": [
    "# Import standard packages.\n",
    "import os\n",
    "import sys\n",
    "import time\n",
    "# Import installed packages.\n",
    "# Import local packages.\n",
    "# demo version: TODO link to GitHub tag.\n",
    "sys.path.insert(0, os.path.join(os.path.curdir, r'demo'))\n",
    "%reload_ext autoreload\n",
    "%autoreload 2\n",
    "import demo\n",
    "%matplotlib inline"
   ]
  },
  {
   "cell_type": "code",
   "execution_count": 3,
   "metadata": {
    "collapsed": false
   },
   "outputs": [
    {
     "name": "stdout",
     "output_type": "stream",
     "text": [
      "Timestamp:\n",
      "2016-09-16T18:42:30GMT\n",
      "\n",
      "Versions:\n",
      "Python: sys.version_info(major=3, minor=5, micro=2, releaselevel='final', serial=0)\n",
      "demo: 0.1.0\n"
     ]
    }
   ],
   "source": [
    "print(\"Timestamp:\")\n",
    "print(time.strftime(r'%Y-%m-%dT%H:%M:%S%Z', time.gmtime()))\n",
    "print()\n",
    "print(\"Versions:\")\n",
    "print(\"Python:\", sys.version_info)\n",
    "print(\"demo:\", demo.__version__)"
   ]
  },
  {
   "cell_type": "code",
   "execution_count": 4,
   "metadata": {
    "collapsed": false,
    "scrolled": true
   },
   "outputs": [
    {
     "name": "stdout",
     "output_type": "stream",
     "text": [
      "\u001b[1m============================= test session starts ==============================\u001b[0m\n",
      "platform linux -- Python 3.5.2, pytest-2.9.2, py-1.4.31, pluggy-0.3.1 -- /opt/conda/bin/python\n",
      "cachedir: .cache\n",
      "rootdir: /opt/demo, inifile: \n",
      "collected 21 items \n",
      "\u001b[0m\n",
      "tests/test_init.py::test_version \u001b[32mPASSED\u001b[0m\n",
      "tests/test_app_reporting/test_reporting.py::test_csv_dataframe_io \u001b[32mPASSED\u001b[0m\n",
      "tests/test_app_template/test_app_template__init__.py::test__all__ \u001b[32mPASSED\u001b[0m\n",
      "tests/test_app_template/test_app_template_main.py::test__all__ \u001b[32mPASSED\u001b[0m\n",
      "tests/test_app_template/test_app_template_main.py::test_main \u001b[32mPASSED\u001b[0m\n",
      "tests/test_app_template/test_app_template_main.py::test__main__ \u001b[32mPASSED\u001b[0m\n",
      "tests/test_app_template/test_template.py::test_prepend_this \u001b[32mPASSED\u001b[0m\n",
      "tests/test_app_update_mssql/test_app_update_mssql__init__.py::test__all__ \u001b[32mPASSED\u001b[0m\n",
      "tests/test_app_update_mssql/test_app_update_mssql_main.py::test__all__ \u001b[32mPASSED\u001b[0m\n",
      "tests/test_utils/test_resources.py::test_get_credentials \u001b[32mPASSED\u001b[0m\n",
      "tests/test_utils/test_resources.py::test_create_azureblob_resource \u001b[32mPASSED\u001b[0m\n",
      "tests/test_utils/test_resources.py::test_create_azurequeue_resource \u001b[32mPASSED\u001b[0m\n",
      "tests/test_utils/test_resources.py::test_create_azuretable_resource \u001b[32mPASSED\u001b[0m\n",
      "tests/test_utils/test_resources.py::test_azure_storage_containers_exist \u001b[32mPASSED\u001b[0m\n",
      "tests/test_utils/test_resources.py::test_create_bigquery_resource \u001b[32mPASSED\u001b[0m\n",
      "tests/test_utils/test_resources.py::test_create_ga_resource \u001b[32mPASSED\u001b[0m\n",
      "tests/test_utils/test_resources.py::test_java_installed \u001b[32mPASSED\u001b[0m\n",
      "tests/test_utils/test_resources.py::test_create_mssql_resource_query \u001b[32mPASSED\u001b[0m\n",
      "tests/test_utils/test_resources.py::test_create_mssql_resource_query_suppl \u001b[32mPASSED\u001b[0m\n",
      "tests/test_utils/test_resources.py::test_create_mssql_resource_insert \u001b[32mPASSED\u001b[0m\n",
      "tests/test_utils/test_resources.py::test_create_odata_resource \u001b[32mPASSED\u001b[0m\n",
      "\n",
      "\u001b[1m\u001b[32m========================== 21 passed in 24.25 seconds ==========================\u001b[0m\n"
     ]
    }
   ],
   "source": [
    "!py.test -v"
   ]
  }
 ],
 "metadata": {
  "anaconda-cloud": {},
  "kernelspec": {
   "display_name": "Python [Root]",
   "language": "python",
   "name": "Python [Root]"
  },
  "language_info": {
   "codemirror_mode": {
    "name": "ipython",
    "version": 3
   },
   "file_extension": ".py",
   "mimetype": "text/x-python",
   "name": "python",
   "nbconvert_exporter": "python",
   "pygments_lexer": "ipython3",
   "version": "3.5.2"
  }
 },
 "nbformat": 4,
 "nbformat_minor": 0
}
