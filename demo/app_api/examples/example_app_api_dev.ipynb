{
 "cells": [
  {
   "cell_type": "markdown",
   "metadata": {},
   "source": [
    "# Example development notebook for `app_api`\n",
    "\n",
    "Related wiki page:  \n",
    "https://github.com/stharrold/demo/wiki/app_template"
   ]
  },
  {
   "cell_type": "code",
   "execution_count": 1,
   "metadata": {
    "collapsed": false
   },
   "outputs": [
    {
     "name": "stdout",
     "output_type": "stream",
     "text": [
      "/opt/demo\n"
     ]
    }
   ],
   "source": [
    "cd /opt/demo"
   ]
  },
  {
   "cell_type": "code",
   "execution_count": 2,
   "metadata": {
    "collapsed": false
   },
   "outputs": [
    {
     "name": "stderr",
     "output_type": "stream",
     "text": [
      "/opt/conda/lib/python3.5/site-packages/matplotlib/font_manager.py:273: UserWarning: Matplotlib is building the font cache using fc-list. This may take a moment.\n",
      "  warnings.warn('Matplotlib is building the font cache using fc-list. This may take a moment.')\n",
      "/opt/conda/lib/python3.5/site-packages/matplotlib/font_manager.py:273: UserWarning: Matplotlib is building the font cache using fc-list. This may take a moment.\n",
      "  warnings.warn('Matplotlib is building the font cache using fc-list. This may take a moment.')\n"
     ]
    }
   ],
   "source": [
    "# Import standard packages.\n",
    "import os\n",
    "import sys\n",
    "import time\n",
    "# Import installed packages.\n",
    "# Import local packages.\n",
    "sys.path.insert(0, os.path.join(os.path.curdir, r'demo'))\n",
    "%reload_ext autoreload\n",
    "%autoreload 2\n",
    "import demo\n",
    "%matplotlib inline"
   ]
  },
  {
   "cell_type": "code",
   "execution_count": 3,
   "metadata": {
    "collapsed": false
   },
   "outputs": [
    {
     "name": "stdout",
     "output_type": "stream",
     "text": [
      "Timestamp:\n",
      "2017-03-29T05:40:32GMT\n",
      "\n",
      "Versions:\n",
      "Python: sys.version_info(major=3, minor=5, micro=2, releaselevel='final', serial=0)\n",
      "demo: 0.0.1\n"
     ]
    }
   ],
   "source": [
    "print(\"Timestamp:\")\n",
    "print(time.strftime(r'%Y-%m-%dT%H:%M:%S%Z', time.gmtime()))\n",
    "print()\n",
    "print(\"Versions:\")\n",
    "print(\"Python:\", sys.version_info)\n",
    "print(\"demo:\", demo.__version__)"
   ]
  },
  {
   "cell_type": "code",
   "execution_count": 4,
   "metadata": {
    "collapsed": false,
    "scrolled": true
   },
   "outputs": [
    {
     "name": "stdout",
     "output_type": "stream",
     "text": [
      "\u001b[1m============================= test session starts ==============================\u001b[0m\n",
      "platform linux -- Python 3.5.2, pytest-2.9.2, py-1.4.31, pluggy-0.3.1 -- /opt/conda/bin/python\n",
      "cachedir: .cache\n",
      "rootdir: /opt/demo, inifile: \n",
      "collected 8 items \u001b[0m\u001b[1m\u001b[1m\n",
      "\u001b[0m\n",
      "tests/test__init__.py::test__all__ \u001b[32mPASSED\u001b[0m\n",
      "tests/test__init__.py::test__version__ \u001b[32mPASSED\u001b[0m\n",
      "tests/test_app_template/test_app_template__init__.py::test__all__ \u001b[32mPASSED\u001b[0m\n",
      "tests/test_app_template/test_app_template_main.py::test__all__ \u001b[32mPASSED\u001b[0m\n",
      "tests/test_app_template/test_app_template_main.py::test_main \u001b[32mPASSED\u001b[0m\n",
      "tests/test_app_template/test_app_template_main.py::test__main__ \u001b[32mPASSED\u001b[0m\n",
      "tests/test_app_template/test_template.py::test_prepend_this \u001b[32mPASSED\u001b[0m\n",
      "tests/test_utils/test_utils__init__.py::test__all__ \u001b[32mPASSED\u001b[0m\n",
      "\n",
      "\u001b[1m\u001b[32m=========================== 8 passed in 6.86 seconds ===========================\u001b[0m\n"
     ]
    }
   ],
   "source": [
    "!py.test -v --pdb"
   ]
  },
  {
   "cell_type": "code",
   "execution_count": 4,
   "metadata": {
    "collapsed": true
   },
   "outputs": [],
   "source": [
    "# DEVELOP BELOW"
   ]
  },
  {
   "cell_type": "code",
   "execution_count": 3,
   "metadata": {
    "collapsed": false
   },
   "outputs": [],
   "source": [
    "import pickle\n",
    "import json\n",
    "import requests\n",
    "\n",
    "import numpy as np\n",
    "import pandas as pd\n",
    "import seaborn as sns\n",
    "import sklearn.datasets as sk_ds\n",
    "import sklearn.ensemble as sk_en\n",
    "import sklearn.cross_validation as sk_cv\n",
    "import sklearn.metrics as sk_me\n",
    "\n",
    "\n"
   ]
  },
  {
   "cell_type": "code",
   "execution_count": null,
   "metadata": {
    "collapsed": true
   },
   "outputs": [],
   "source": []
  },
  {
   "cell_type": "code",
   "execution_count": 4,
   "metadata": {
    "collapsed": false
   },
   "outputs": [],
   "source": [
    "iris = sk_ds.load_iris()\n",
    "X_train, X_test, y_train, y_test = sk_cv.train_test_split(iris.data, iris.target)"
   ]
  },
  {
   "cell_type": "code",
   "execution_count": 6,
   "metadata": {
    "collapsed": false,
    "scrolled": true
   },
   "outputs": [
    {
     "data": {
      "text/html": [
       "<div>\n",
       "<table border=\"1\" class=\"dataframe\">\n",
       "  <thead>\n",
       "    <tr style=\"text-align: right;\">\n",
       "      <th></th>\n",
       "      <th>0</th>\n",
       "    </tr>\n",
       "  </thead>\n",
       "  <tbody>\n",
       "    <tr>\n",
       "      <th>0</th>\n",
       "      <td>0</td>\n",
       "    </tr>\n",
       "    <tr>\n",
       "      <th>1</th>\n",
       "      <td>1</td>\n",
       "    </tr>\n",
       "    <tr>\n",
       "      <th>2</th>\n",
       "      <td>2</td>\n",
       "    </tr>\n",
       "    <tr>\n",
       "      <th>3</th>\n",
       "      <td>0</td>\n",
       "    </tr>\n",
       "    <tr>\n",
       "      <th>4</th>\n",
       "      <td>1</td>\n",
       "    </tr>\n",
       "    <tr>\n",
       "      <th>5</th>\n",
       "      <td>1</td>\n",
       "    </tr>\n",
       "    <tr>\n",
       "      <th>6</th>\n",
       "      <td>0</td>\n",
       "    </tr>\n",
       "    <tr>\n",
       "      <th>7</th>\n",
       "      <td>0</td>\n",
       "    </tr>\n",
       "    <tr>\n",
       "      <th>8</th>\n",
       "      <td>1</td>\n",
       "    </tr>\n",
       "    <tr>\n",
       "      <th>9</th>\n",
       "      <td>1</td>\n",
       "    </tr>\n",
       "    <tr>\n",
       "      <th>10</th>\n",
       "      <td>0</td>\n",
       "    </tr>\n",
       "    <tr>\n",
       "      <th>11</th>\n",
       "      <td>2</td>\n",
       "    </tr>\n",
       "    <tr>\n",
       "      <th>12</th>\n",
       "      <td>2</td>\n",
       "    </tr>\n",
       "    <tr>\n",
       "      <th>13</th>\n",
       "      <td>1</td>\n",
       "    </tr>\n",
       "    <tr>\n",
       "      <th>14</th>\n",
       "      <td>2</td>\n",
       "    </tr>\n",
       "    <tr>\n",
       "      <th>15</th>\n",
       "      <td>2</td>\n",
       "    </tr>\n",
       "    <tr>\n",
       "      <th>16</th>\n",
       "      <td>0</td>\n",
       "    </tr>\n",
       "    <tr>\n",
       "      <th>17</th>\n",
       "      <td>2</td>\n",
       "    </tr>\n",
       "    <tr>\n",
       "      <th>18</th>\n",
       "      <td>1</td>\n",
       "    </tr>\n",
       "    <tr>\n",
       "      <th>19</th>\n",
       "      <td>2</td>\n",
       "    </tr>\n",
       "    <tr>\n",
       "      <th>20</th>\n",
       "      <td>1</td>\n",
       "    </tr>\n",
       "    <tr>\n",
       "      <th>21</th>\n",
       "      <td>1</td>\n",
       "    </tr>\n",
       "    <tr>\n",
       "      <th>22</th>\n",
       "      <td>2</td>\n",
       "    </tr>\n",
       "    <tr>\n",
       "      <th>23</th>\n",
       "      <td>0</td>\n",
       "    </tr>\n",
       "    <tr>\n",
       "      <th>24</th>\n",
       "      <td>1</td>\n",
       "    </tr>\n",
       "    <tr>\n",
       "      <th>25</th>\n",
       "      <td>0</td>\n",
       "    </tr>\n",
       "    <tr>\n",
       "      <th>26</th>\n",
       "      <td>0</td>\n",
       "    </tr>\n",
       "    <tr>\n",
       "      <th>27</th>\n",
       "      <td>0</td>\n",
       "    </tr>\n",
       "    <tr>\n",
       "      <th>28</th>\n",
       "      <td>2</td>\n",
       "    </tr>\n",
       "    <tr>\n",
       "      <th>29</th>\n",
       "      <td>1</td>\n",
       "    </tr>\n",
       "    <tr>\n",
       "      <th>30</th>\n",
       "      <td>0</td>\n",
       "    </tr>\n",
       "    <tr>\n",
       "      <th>31</th>\n",
       "      <td>1</td>\n",
       "    </tr>\n",
       "    <tr>\n",
       "      <th>32</th>\n",
       "      <td>0</td>\n",
       "    </tr>\n",
       "    <tr>\n",
       "      <th>33</th>\n",
       "      <td>1</td>\n",
       "    </tr>\n",
       "    <tr>\n",
       "      <th>34</th>\n",
       "      <td>2</td>\n",
       "    </tr>\n",
       "    <tr>\n",
       "      <th>35</th>\n",
       "      <td>1</td>\n",
       "    </tr>\n",
       "    <tr>\n",
       "      <th>36</th>\n",
       "      <td>1</td>\n",
       "    </tr>\n",
       "    <tr>\n",
       "      <th>37</th>\n",
       "      <td>1</td>\n",
       "    </tr>\n",
       "  </tbody>\n",
       "</table>\n",
       "</div>"
      ],
      "text/plain": [
       "    0\n",
       "0   0\n",
       "1   1\n",
       "2   2\n",
       "3   0\n",
       "4   1\n",
       "5   1\n",
       "6   0\n",
       "7   0\n",
       "8   1\n",
       "9   1\n",
       "10  0\n",
       "11  2\n",
       "12  2\n",
       "13  1\n",
       "14  2\n",
       "15  2\n",
       "16  0\n",
       "17  2\n",
       "18  1\n",
       "19  2\n",
       "20  1\n",
       "21  1\n",
       "22  2\n",
       "23  0\n",
       "24  1\n",
       "25  0\n",
       "26  0\n",
       "27  0\n",
       "28  2\n",
       "29  1\n",
       "30  0\n",
       "31  1\n",
       "32  0\n",
       "33  1\n",
       "34  2\n",
       "35  1\n",
       "36  1\n",
       "37  1"
      ]
     },
     "execution_count": 6,
     "metadata": {},
     "output_type": "execute_result"
    }
   ],
   "source": [
    "# Get predictions from model through the API:\n",
    "url = 'http://localhost:5000/api'\n",
    "data = pd.DataFrame(\n",
    "    data=X_test,\n",
    "    columns=['sl', 'sw', 'pl', 'pw'])\n",
    "res = requests.post(url, data.to_json())\n",
    "preds = pd.DataFrame.from_dict(data=json.loads(res.json()['results']))\n",
    "preds.index = preds.index.astype(int)\n",
    "preds.sort_index(inplace=True)\n",
    "preds"
   ]
  },
  {
   "cell_type": "code",
   "execution_count": 7,
   "metadata": {
    "collapsed": false,
    "scrolled": true
   },
   "outputs": [
    {
     "data": {
      "text/html": [
       "<div>\n",
       "<table border=\"1\" class=\"dataframe\">\n",
       "  <thead>\n",
       "    <tr style=\"text-align: right;\">\n",
       "      <th></th>\n",
       "      <th>0</th>\n",
       "    </tr>\n",
       "  </thead>\n",
       "  <tbody>\n",
       "    <tr>\n",
       "      <th>0</th>\n",
       "      <td>0</td>\n",
       "    </tr>\n",
       "    <tr>\n",
       "      <th>1</th>\n",
       "      <td>1</td>\n",
       "    </tr>\n",
       "    <tr>\n",
       "      <th>2</th>\n",
       "      <td>2</td>\n",
       "    </tr>\n",
       "    <tr>\n",
       "      <th>3</th>\n",
       "      <td>0</td>\n",
       "    </tr>\n",
       "    <tr>\n",
       "      <th>4</th>\n",
       "      <td>1</td>\n",
       "    </tr>\n",
       "    <tr>\n",
       "      <th>5</th>\n",
       "      <td>1</td>\n",
       "    </tr>\n",
       "    <tr>\n",
       "      <th>6</th>\n",
       "      <td>0</td>\n",
       "    </tr>\n",
       "    <tr>\n",
       "      <th>7</th>\n",
       "      <td>0</td>\n",
       "    </tr>\n",
       "    <tr>\n",
       "      <th>8</th>\n",
       "      <td>1</td>\n",
       "    </tr>\n",
       "    <tr>\n",
       "      <th>9</th>\n",
       "      <td>1</td>\n",
       "    </tr>\n",
       "    <tr>\n",
       "      <th>10</th>\n",
       "      <td>0</td>\n",
       "    </tr>\n",
       "    <tr>\n",
       "      <th>11</th>\n",
       "      <td>2</td>\n",
       "    </tr>\n",
       "    <tr>\n",
       "      <th>12</th>\n",
       "      <td>2</td>\n",
       "    </tr>\n",
       "    <tr>\n",
       "      <th>13</th>\n",
       "      <td>1</td>\n",
       "    </tr>\n",
       "    <tr>\n",
       "      <th>14</th>\n",
       "      <td>2</td>\n",
       "    </tr>\n",
       "    <tr>\n",
       "      <th>15</th>\n",
       "      <td>2</td>\n",
       "    </tr>\n",
       "    <tr>\n",
       "      <th>16</th>\n",
       "      <td>0</td>\n",
       "    </tr>\n",
       "    <tr>\n",
       "      <th>17</th>\n",
       "      <td>2</td>\n",
       "    </tr>\n",
       "    <tr>\n",
       "      <th>18</th>\n",
       "      <td>1</td>\n",
       "    </tr>\n",
       "    <tr>\n",
       "      <th>19</th>\n",
       "      <td>2</td>\n",
       "    </tr>\n",
       "    <tr>\n",
       "      <th>20</th>\n",
       "      <td>1</td>\n",
       "    </tr>\n",
       "    <tr>\n",
       "      <th>21</th>\n",
       "      <td>1</td>\n",
       "    </tr>\n",
       "    <tr>\n",
       "      <th>22</th>\n",
       "      <td>2</td>\n",
       "    </tr>\n",
       "    <tr>\n",
       "      <th>23</th>\n",
       "      <td>0</td>\n",
       "    </tr>\n",
       "    <tr>\n",
       "      <th>24</th>\n",
       "      <td>1</td>\n",
       "    </tr>\n",
       "    <tr>\n",
       "      <th>25</th>\n",
       "      <td>0</td>\n",
       "    </tr>\n",
       "    <tr>\n",
       "      <th>26</th>\n",
       "      <td>0</td>\n",
       "    </tr>\n",
       "    <tr>\n",
       "      <th>27</th>\n",
       "      <td>0</td>\n",
       "    </tr>\n",
       "    <tr>\n",
       "      <th>28</th>\n",
       "      <td>2</td>\n",
       "    </tr>\n",
       "    <tr>\n",
       "      <th>29</th>\n",
       "      <td>1</td>\n",
       "    </tr>\n",
       "    <tr>\n",
       "      <th>30</th>\n",
       "      <td>0</td>\n",
       "    </tr>\n",
       "    <tr>\n",
       "      <th>31</th>\n",
       "      <td>1</td>\n",
       "    </tr>\n",
       "    <tr>\n",
       "      <th>32</th>\n",
       "      <td>0</td>\n",
       "    </tr>\n",
       "    <tr>\n",
       "      <th>33</th>\n",
       "      <td>1</td>\n",
       "    </tr>\n",
       "    <tr>\n",
       "      <th>34</th>\n",
       "      <td>2</td>\n",
       "    </tr>\n",
       "    <tr>\n",
       "      <th>35</th>\n",
       "      <td>1</td>\n",
       "    </tr>\n",
       "    <tr>\n",
       "      <th>36</th>\n",
       "      <td>1</td>\n",
       "    </tr>\n",
       "    <tr>\n",
       "      <th>37</th>\n",
       "      <td>1</td>\n",
       "    </tr>\n",
       "  </tbody>\n",
       "</table>\n",
       "</div>"
      ],
      "text/plain": [
       "    0\n",
       "0   0\n",
       "1   1\n",
       "2   2\n",
       "3   0\n",
       "4   1\n",
       "5   1\n",
       "6   0\n",
       "7   0\n",
       "8   1\n",
       "9   1\n",
       "10  0\n",
       "11  2\n",
       "12  2\n",
       "13  1\n",
       "14  2\n",
       "15  2\n",
       "16  0\n",
       "17  2\n",
       "18  1\n",
       "19  2\n",
       "20  1\n",
       "21  1\n",
       "22  2\n",
       "23  0\n",
       "24  1\n",
       "25  0\n",
       "26  0\n",
       "27  0\n",
       "28  2\n",
       "29  1\n",
       "30  0\n",
       "31  1\n",
       "32  0\n",
       "33  1\n",
       "34  2\n",
       "35  1\n",
       "36  1\n",
       "37  1"
      ]
     },
     "execution_count": 7,
     "metadata": {},
     "output_type": "execute_result"
    }
   ],
   "source": [
    "# Get predictions from the model without the API:\n",
    "path_pkl = os.path.join(os.path.abspath(os.path.curdir), r'demo/app_api/pkl')\n",
    "path_model = os.path.join(path_pkl, 'model.pkl')\n",
    "with open(path_model, mode='rb') as fobj:\n",
    "    model = pickle.load(file=fobj)\n",
    "preds = pd.DataFrame.from_dict(data=json.loads(\n",
    "    demo.app_api.predict.predict(features=data.to_json(), model=model)))\n",
    "preds.index = preds.index.astype(int)\n",
    "preds.sort_index(inplace=True)\n",
    "preds"
   ]
  },
  {
   "cell_type": "code",
   "execution_count": 5,
   "metadata": {
    "collapsed": false
   },
   "outputs": [
    {
     "name": "stdout",
     "output_type": "stream",
     "text": [
      "usage: main.py [-h] [--logging_level {DEBUG,INFO,WARNING,ERROR,CRITICAL}]\r\n",
      "               {train,predict,api} ...\r\n",
      "\r\n",
      "Predictive application with an API.\r\n",
      "\r\n",
      "positional arguments:\r\n",
      "  {train,predict,api}\r\n",
      "    train               Train (or retrain) the model.\r\n",
      "    predict             Predict target(s) from features.\r\n",
      "    api                 Serve the predictive model with a RESTful API.\r\n",
      "\r\n",
      "optional arguments:\r\n",
      "  -h, --help            show this help message and exit\r\n",
      "  --logging_level {DEBUG,INFO,WARNING,ERROR,CRITICAL}\r\n",
      "                        Verbosity of logging level from 'DEBUG' (most) to\r\n",
      "                        'CRITICAL' (least). Default: INFO\r\n"
     ]
    }
   ],
   "source": [
    "!python demo/app_api/main.py --help"
   ]
  },
  {
   "cell_type": "markdown",
   "metadata": {
    "collapsed": true
   },
   "source": [
    "# scratch\n",
    "\n",
    "scratch below"
   ]
  },
  {
   "cell_type": "code",
   "execution_count": 6,
   "metadata": {
    "collapsed": true
   },
   "outputs": [],
   "source": [
    "import numpy as np"
   ]
  },
  {
   "cell_type": "code",
   "execution_count": 11,
   "metadata": {
    "collapsed": false
   },
   "outputs": [
    {
     "data": {
      "text/plain": [
       "0.0083999999999999995"
      ]
     },
     "execution_count": 11,
     "metadata": {},
     "output_type": "execute_result"
    }
   ],
   "source": [
    "dist_heads = list()\n",
    "for _ in range(int(1e4)):\n",
    "    num_heads = 0\n",
    "    for toss in range(30):\n",
    "        if np.random.uniform() < 0.5:\n",
    "            num_heads += 1\n",
    "    dist_heads.append(num_heads)\n",
    "sum(np.greater_equal(dist_heads, 22))/len(dist_heads)"
   ]
  },
  {
   "cell_type": "code",
   "execution_count": 16,
   "metadata": {
    "collapsed": false
   },
   "outputs": [
    {
     "data": {
      "text/plain": [
       "0.16569999999999999"
      ]
     },
     "execution_count": 16,
     "metadata": {},
     "output_type": "execute_result"
    }
   ],
   "source": [
    "scores_stars = [84, 72, 57, 46, 63, 76, 99, 91]\n",
    "scores_none = [81, 69, 74, 61, 56, 87, 69, 65, 66, 44, 62, 69]\n",
    "diff_orig = np.mean(scores_stars) - np.mean(scores_none)\n",
    "scores = scores_stars + scores_none\n",
    "diffs = list()\n",
    "for _ in range(int(1e4)):\n",
    "    scores = np.random.permutation(scores)\n",
    "    scores_s = scores[:len(scores_stars)]\n",
    "    scores_n = scores[-len(scores_none):]\n",
    "    assert len(scores) == len(scores_s) + len(scores_n)\n",
    "    diff = np.mean(scores_s) - np.mean(scores_n)\n",
    "    diffs.append(diff)\n",
    "sum(np.greater_equal(diffs, diff_orig))/len(diffs)"
   ]
  },
  {
   "cell_type": "code",
   "execution_count": 18,
   "metadata": {
    "collapsed": false
   },
   "outputs": [
    {
     "data": {
      "text/plain": [
       "(26.0, 28.800000000000001, 32.049999999999997)"
      ]
     },
     "execution_count": 18,
     "metadata": {},
     "output_type": "execute_result"
    }
   ],
   "source": [
    "heights = [48, 24, 51, 12, 21, 41, 25, 23, 32, 61, 19, 24, 29, 21, 23, 13, 32, 18, 42, 18]\n",
    "means = list()\n",
    "for _ in range(int(1e4)):\n",
    "    sample = np.random.choice(heights, size=len(heights), replace=True)\n",
    "    means.append(np.mean(sample))\n",
    "np.percentile(means, 15.87), np.percentile(means, 50.00), np.percentile(means, 86.13)"
   ]
  },
  {
   "cell_type": "code",
   "execution_count": 36,
   "metadata": {
    "collapsed": false
   },
   "outputs": [
    {
     "data": {
      "text/plain": [
       "374.21334255460323"
      ]
     },
     "execution_count": 36,
     "metadata": {},
     "output_type": "execute_result"
    }
   ],
   "source": [
    "# #60, SOA Exam P\n",
    "prices = np.random.normal(loc=200, scale=np.sqrt(260), size=int(1e6))\n",
    "prices *= 1.2\n",
    "np.var(prices)"
   ]
  },
  {
   "cell_type": "code",
   "execution_count": 37,
   "metadata": {
    "collapsed": false
   },
   "outputs": [
    {
     "data": {
      "text/plain": [
       "309.15999999999997"
      ]
     },
     "execution_count": 37,
     "metadata": {},
     "output_type": "execute_result"
    }
   ],
   "source": [
    "10.79 + 16.53 + 200.98 + 80.86"
   ]
  },
  {
   "cell_type": "code",
   "execution_count": null,
   "metadata": {
    "collapsed": true
   },
   "outputs": [],
   "source": []
  }
 ],
 "metadata": {
  "anaconda-cloud": {},
  "kernelspec": {
   "display_name": "Python [Root]",
   "language": "python",
   "name": "Python [Root]"
  },
  "language_info": {
   "codemirror_mode": {
    "name": "ipython",
    "version": 3
   },
   "file_extension": ".py",
   "mimetype": "text/x-python",
   "name": "python",
   "nbconvert_exporter": "python",
   "pygments_lexer": "ipython3",
   "version": "3.5.2"
  }
 },
 "nbformat": 4,
 "nbformat_minor": 0
}
