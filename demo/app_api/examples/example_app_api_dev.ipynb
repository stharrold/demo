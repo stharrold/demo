{
 "cells": [
  {
   "cell_type": "markdown",
   "metadata": {},
   "source": [
    "# Example development notebook for `app_api`\n",
    "\n",
    "Related wiki page:  \n",
    "https://github.com/stharrold/demo/wiki/app_template"
   ]
  },
  {
   "cell_type": "code",
   "execution_count": 1,
   "metadata": {
    "collapsed": false
   },
   "outputs": [
    {
     "name": "stdout",
     "output_type": "stream",
     "text": [
      "/opt/demo\n"
     ]
    }
   ],
   "source": [
    "cd /opt/demo"
   ]
  },
  {
   "cell_type": "code",
   "execution_count": 2,
   "metadata": {
    "collapsed": false
   },
   "outputs": [
    {
     "name": "stderr",
     "output_type": "stream",
     "text": [
      "/opt/conda/lib/python3.5/site-packages/matplotlib/font_manager.py:273: UserWarning: Matplotlib is building the font cache using fc-list. This may take a moment.\n",
      "  warnings.warn('Matplotlib is building the font cache using fc-list. This may take a moment.')\n",
      "/opt/conda/lib/python3.5/site-packages/matplotlib/font_manager.py:273: UserWarning: Matplotlib is building the font cache using fc-list. This may take a moment.\n",
      "  warnings.warn('Matplotlib is building the font cache using fc-list. This may take a moment.')\n"
     ]
    }
   ],
   "source": [
    "# Import standard packages.\n",
    "import os\n",
    "import sys\n",
    "import time\n",
    "# Import installed packages.\n",
    "# Import local packages.\n",
    "sys.path.insert(0, os.path.join(os.path.curdir, r'demo'))\n",
    "%reload_ext autoreload\n",
    "%autoreload 2\n",
    "import demo\n",
    "%matplotlib inline"
   ]
  },
  {
   "cell_type": "code",
   "execution_count": 3,
   "metadata": {
    "collapsed": false
   },
   "outputs": [
    {
     "name": "stdout",
     "output_type": "stream",
     "text": [
      "Timestamp:\n",
      "2017-03-27T22:11:06GMT\n",
      "\n",
      "Versions:\n",
      "Python: sys.version_info(major=3, minor=5, micro=2, releaselevel='final', serial=0)\n",
      "demo: 0.0.1\n"
     ]
    }
   ],
   "source": [
    "print(\"Timestamp:\")\n",
    "print(time.strftime(r'%Y-%m-%dT%H:%M:%S%Z', time.gmtime()))\n",
    "print()\n",
    "print(\"Versions:\")\n",
    "print(\"Python:\", sys.version_info)\n",
    "print(\"demo:\", demo.__version__)"
   ]
  },
  {
   "cell_type": "code",
   "execution_count": 4,
   "metadata": {
    "collapsed": false,
    "scrolled": true
   },
   "outputs": [
    {
     "name": "stdout",
     "output_type": "stream",
     "text": [
      "\u001b[1m============================= test session starts ==============================\u001b[0m\n",
      "platform linux -- Python 3.5.2, pytest-2.9.2, py-1.4.31, pluggy-0.3.1 -- /opt/conda/bin/python\n",
      "cachedir: .cache\n",
      "rootdir: /opt/demo, inifile: \n",
      "collected 8 items \u001b[0m\u001b[1m\u001b[1m\u001b[1m\n",
      "\u001b[0m\n",
      "tests/test__init__.py::test__all__ \u001b[32mPASSED\u001b[0m\n",
      "tests/test__init__.py::test__version__ \u001b[32mPASSED\u001b[0m\n",
      "tests/test_app_template/test_app_template__init__.py::test__all__ \u001b[32mPASSED\u001b[0m\n",
      "tests/test_app_template/test_app_template_main.py::test__all__ \u001b[32mPASSED\u001b[0m\n",
      "tests/test_app_template/test_app_template_main.py::test_main \u001b[32mPASSED\u001b[0m\n",
      "tests/test_app_template/test_app_template_main.py::test__main__ \u001b[32mPASSED\u001b[0m\n",
      "tests/test_app_template/test_template.py::test_prepend_this \u001b[32mPASSED\u001b[0m\n",
      "tests/test_utils/test_utils__init__.py::test__all__ \u001b[32mPASSED\u001b[0m\n",
      "\n",
      "\u001b[32m\u001b[1m=========================== 8 passed in 5.65 seconds ===========================\u001b[0m\n"
     ]
    }
   ],
   "source": [
    "!py.test -v --pdb"
   ]
  },
  {
   "cell_type": "code",
   "execution_count": 23,
   "metadata": {
    "collapsed": true
   },
   "outputs": [],
   "source": [
    "# DEVELOP BELOW"
   ]
  },
  {
   "cell_type": "code",
   "execution_count": 29,
   "metadata": {
    "collapsed": false
   },
   "outputs": [],
   "source": [
    "from sklearn import datasets\n",
    "from sklearn.ensemble import RandomForestClassifier\n",
    "from sklearn.cross_validation import train_test_split\n",
    "from sklearn.metrics import accuracy_score\n",
    "from sklearn.metrics import classification_report\n",
    "\n",
    "import pickle\n",
    "import requests, json"
   ]
  },
  {
   "cell_type": "code",
   "execution_count": 32,
   "metadata": {
    "collapsed": true
   },
   "outputs": [],
   "source": [
    "iris = datasets.load_iris()\n",
    "X = iris.data\n",
    "y = iris.target"
   ]
  },
  {
   "cell_type": "code",
   "execution_count": 34,
   "metadata": {
    "collapsed": false
   },
   "outputs": [],
   "source": [
    "X_train, X_test, y_train, y_test = train_test_split(X, y)"
   ]
  },
  {
   "cell_type": "code",
   "execution_count": 35,
   "metadata": {
    "collapsed": true
   },
   "outputs": [],
   "source": [
    "rfc = RandomForestClassifier(n_estimators=100, n_jobs=2)"
   ]
  },
  {
   "cell_type": "code",
   "execution_count": 36,
   "metadata": {
    "collapsed": false
   },
   "outputs": [
    {
     "data": {
      "text/plain": [
       "RandomForestClassifier(bootstrap=True, class_weight=None, criterion='gini',\n",
       "            max_depth=None, max_features='auto', max_leaf_nodes=None,\n",
       "            min_samples_leaf=1, min_samples_split=2,\n",
       "            min_weight_fraction_leaf=0.0, n_estimators=100, n_jobs=2,\n",
       "            oob_score=False, random_state=None, verbose=0,\n",
       "            warm_start=False)"
      ]
     },
     "execution_count": 36,
     "metadata": {},
     "output_type": "execute_result"
    }
   ],
   "source": [
    "rfc.fit(X_train, y_train)"
   ]
  },
  {
   "cell_type": "code",
   "execution_count": 38,
   "metadata": {
    "collapsed": false
   },
   "outputs": [
    {
     "name": "stdout",
     "output_type": "stream",
     "text": [
      "             precision    recall  f1-score   support\n",
      "\n",
      "          0       1.00      1.00      1.00        12\n",
      "          1       0.83      0.91      0.87        11\n",
      "          2       0.93      0.87      0.90        15\n",
      "\n",
      "avg / total       0.92      0.92      0.92        38\n",
      "\n"
     ]
    }
   ],
   "source": [
    "print(classification_report(y_test, rfc.predict(X_test)))"
   ]
  },
  {
   "cell_type": "code",
   "execution_count": 39,
   "metadata": {
    "collapsed": true
   },
   "outputs": [],
   "source": [
    "path_app = os.path.join(os.path.abspath(os.path.curdir), r'demo/app_api')\n",
    "path_est = os.path.join(path_app, 'estimator.pkl')\n",
    "with open(path_est, mode='wb') as fobj:\n",
    "    pickle.dump(obj=rfc, file=fobj)"
   ]
  },
  {
   "cell_type": "code",
   "execution_count": 40,
   "metadata": {
    "collapsed": true
   },
   "outputs": [],
   "source": [
    "with open(path_est, mode='rb') as fobj:\n",
    "    rfc = pickle.load(file=fobj)"
   ]
  },
  {
   "cell_type": "code",
   "execution_count": null,
   "metadata": {
    "collapsed": true
   },
   "outputs": [],
   "source": []
  }
 ],
 "metadata": {
  "anaconda-cloud": {},
  "kernelspec": {
   "display_name": "Python [Root]",
   "language": "python",
   "name": "Python [Root]"
  },
  "language_info": {
   "codemirror_mode": {
    "name": "ipython",
    "version": 3
   },
   "file_extension": ".py",
   "mimetype": "text/x-python",
   "name": "python",
   "nbconvert_exporter": "python",
   "pygments_lexer": "ipython3",
   "version": "3.5.2"
  }
 },
 "nbformat": 4,
 "nbformat_minor": 0
}
